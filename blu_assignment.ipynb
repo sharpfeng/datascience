{
 "cells": [
  {
   "cell_type": "code",
   "execution_count": 114,
   "id": "bba929b4-6f8d-4357-80e8-281e78795e32",
   "metadata": {},
   "outputs": [],
   "source": [
    "# %load_ext rpy2.ipython\n",
    "import numpy as np\n",
    "import seaborn as sns\n",
    "import pandas as pd\n",
    "from sklearn.linear_model import LogisticRegression\n",
    "from sklearn.ensemble import RandomForestClassifier\n",
    "import matplotlib.pyplot as plt\n",
    "from scipy.spatial import distance\n",
    "from scipy.cluster.hierarchy import linkage, dendrogram, cut_tree\n",
    "from sklearn.preprocessing import MinMaxScaler\n",
    "from sklearn.decomposition import PCA\n",
    "from scipy.cluster.hierarchy import fcluster\n",
    "from sklearn import decomposition, mixture\n",
    "from scipy.stats import ttest_ind\n",
    "from clustergram import Clustergram\n",
    "from sklearn.model_selection import train_test_split\n",
    "import warnings\n",
    "from sklearn import metrics\n",
    "from sklearn.cluster import AgglomerativeClustering\n",
    "from sklearn.metrics import confusion_matrix\n",
    "from sklearn.metrics import accuracy_score\n",
    "from sklearn.metrics import roc_auc_score\n",
    "from sklearn import decomposition\n",
    "import numpy.linalg as la\n",
    "warnings.filterwarnings('ignore')\n",
    "pd.set_option('display.max_column', None)\n",
    "pd.set_option('display.max_rows', None)"
   ]
  },
  {
   "cell_type": "markdown",
   "id": "d7979f29-8aa3-4d1a-8e6c-c4913595f9f3",
   "metadata": {},
   "source": [
    "# Part 1\n",
    "\n",
    "## Data Pre-processing\n",
    "\n",
    "Reading in files."
   ]
  },
  {
   "cell_type": "code",
   "execution_count": 2,
   "id": "167cef35-887c-43a5-80bb-e5e923c36d55",
   "metadata": {},
   "outputs": [],
   "source": [
    "control = pd.read_csv('Control_Data.csv') \n",
    "exposed = pd.read_csv('Exposed_Data.csv')\n",
    "data_dictionary = pd.read_csv('data_dictionary.csv')\n"
   ]
  },
  {
   "cell_type": "code",
   "execution_count": 3,
   "id": "eba44f69-0ef8-4c15-9493-6b58683495ad",
   "metadata": {},
   "outputs": [],
   "source": [
    "exposed['exposed'] = 1\n",
    "control['exposed'] = 0\n",
    "df = pd.concat([exposed, control], ignore_index = True)\n",
    "df['urbanicity'] = df['urbanicity'].replace({'S': 'Suburban',\n",
    "                                             'U': 'Urban',\n",
    "                                             'R': 'Rural'})"
   ]
  },
  {
   "cell_type": "markdown",
   "id": "776fcd0d-388c-4cf4-a41c-512f400f288a",
   "metadata": {},
   "source": [
    "Data cleaning"
   ]
  },
  {
   "cell_type": "code",
   "execution_count": 4,
   "id": "a9c6fb5e-fed5-4b0a-a7da-99907f8aeb95",
   "metadata": {},
   "outputs": [],
   "source": [
    "df.dropna(axis='columns', thresh= 1600) #drop columns with too many NA\n",
    "# Find the fill rate of each Individual blu ID (row)\n",
    "df['Fill_Rate'] = df.sum(axis = 1) / df.shape[1]\n",
    "indexNames_low_fill_ind = df[df['Fill_Rate'] < .70].index\n",
    "# Deleting Individuals (rows) from data frame with low fill rates.\n",
    "df.drop(indexNames_low_fill_ind, inplace=True)\n",
    "#fill missing values\n",
    "df.drop(columns = ['Fill_Rate'], inplace=True)"
   ]
  },
  {
   "cell_type": "code",
   "execution_count": 5,
   "id": "3ae82635-24ec-46cc-b1f8-d70454cafa33",
   "metadata": {},
   "outputs": [],
   "source": [
    "cat = df.columns[df.dtypes=='object']\n",
    "df = pd.get_dummies(df, columns=cat) # change categorical into dummy variables\n",
    "factors = ['zip11', 'cbsa_code', 'census_tract', 'census_block_id', 'census_block_group', 'msa'] #Removing redundant features-- these are all correlated with each other.\n",
    "df = df.drop(columns = factors) \n",
    "df = df.drop(columns=['gender_U']) "
   ]
  },
  {
   "cell_type": "code",
   "execution_count": 7,
   "id": "da08621e-f3ef-491f-88cb-2c008523a6d6",
   "metadata": {},
   "outputs": [],
   "source": [
    "# Filter out binary dummy variables from the DataFrame to get only numeric variables, fill missing values\n",
    "dummy_mask = df.apply(lambda col: set(col.unique()) == {0, 1})\n",
    "non_dummy_columns = df.columns[~dummy_mask]\n",
    "dummy_data = df.columns[dummy_mask]\n",
    "dummy_data = df[dummy_data]\n",
    "filtered_data = df[non_dummy_columns]"
   ]
  },
  {
   "cell_type": "code",
   "execution_count": 67,
   "id": "1d8d5c3c-f729-4dad-921c-57945e184e03",
   "metadata": {},
   "outputs": [],
   "source": [
    "mean_values = df[non_dummy_columns].mean()\n",
    "df[non_dummy_columns] = df[non_dummy_columns].fillna(mean_values)\n",
    "#df.isnull().sum().value_count(sort_ascending = False)\n",
    "\n",
    "df_control = df.loc[df['exposed'] == 0,]\n",
    "df_exposed = df.loc[df['exposed'] == 1,]"
   ]
  },
  {
   "cell_type": "markdown",
   "id": "51e342af-6e58-4b13-9ee1-02d412957416",
   "metadata": {},
   "source": [
    "## Demographics of the samples"
   ]
  },
  {
   "cell_type": "markdown",
   "id": "45ad54af-be8e-4e0c-b9fe-a938b5157c38",
   "metadata": {},
   "source": [
    "Age and Income"
   ]
  },
  {
   "cell_type": "code",
   "execution_count": 68,
   "id": "0abed2a0-e4c5-4323-abe7-7bf57fd4fd68",
   "metadata": {},
   "outputs": [
    {
     "data": {
      "text/plain": [
       "1    996\n",
       "0    988\n",
       "Name: exposed, dtype: int64"
      ]
     },
     "execution_count": 68,
     "metadata": {},
     "output_type": "execute_result"
    }
   ],
   "source": [
    "df['exposed'].value_counts()"
   ]
  },
  {
   "cell_type": "code",
   "execution_count": 69,
   "id": "21c0c5ce-4252-4c5b-8bcb-26cf08c22653",
   "metadata": {},
   "outputs": [
    {
     "name": "stdout",
     "output_type": "stream",
     "text": [
      "age\n",
      "exposed_Mean: 51.345382\n",
      "exposed_Median: 52.000000\n",
      "control_Mean: 53.486294\n",
      "control_Median: 54.000000\n",
      "\n",
      "income\n",
      "exposed_Mean: 72504.115226\n",
      "exposed_Median: 62000.000000\n",
      "control_Mean: 75236.536431\n",
      "control_Median: 52000.000000\n",
      "\n"
     ]
    },
    {
     "data": {
      "image/png": "[encoded data removed]",
      "text/plain": [
       "<Figure size 1440x576 with 2 Axes>"
      ]
     },
     "metadata": {
      "needs_background": "light"
     },
     "output_type": "display_data"
    }
   ],
   "source": [
    "num = ['age', 'income']\n",
    "fig, axes = plt.subplots(1, 2, figsize=(20, 8))\n",
    "fig.suptitle('Demographics')\n",
    "\n",
    "# Plot\n",
    "for i in range(len(num)):\n",
    "    axes[i].set_title(num[i])\n",
    "    sns.histplot(exposed[num[i]], ax=axes[i], color=\"blue\", label=\"Exposed\")\n",
    "    sns.histplot(control[num[i]], ax=axes[i], color=\"orange\", label=\"Control\")\n",
    "    fig.legend()\n",
    "    print(num[i])\n",
    "    print(\"exposed_Mean: %f\" % exposed[num[i]].mean())\n",
    "    print(\"exposed_Median: %f\" % exposed[num[i]].median())\n",
    "    print(\"control_Mean: %f\" % control[num[i]].mean())\n",
    "    print(\"control_Median: %f\" % control[num[i]].median())\n",
    "    print()"
   ]
  },
  {
   "cell_type": "markdown",
   "id": "6f917b75-0482-4910-ba44-1df2fc11d188",
   "metadata": {},
   "source": [
    "Education"
   ]
  },
  {
   "cell_type": "code",
   "execution_count": 70,
   "id": "49ef4b76-7be6-4f99-b1dd-0bc87441181b",
   "metadata": {},
   "outputs": [
    {
     "data": {
      "image/png": "[encoded data removed]",
      "text/plain": [
       "<Figure size 432x288 with 1 Axes>"
      ]
     },
     "metadata": {
      "needs_background": "light"
     },
     "output_type": "display_data"
    }
   ],
   "source": [
    "labs = {'edu100': 'Education_HighSchool', \n",
    "        'edu101': 'Education_SomeCollege', \n",
    "        'edu102': 'Education_CollegeGrad',\n",
    "        'edu103': 'Education_MastersGrad'}\n",
    "df = df.rename(columns = labs)\n",
    "edu_list = [i for i in labs.values()]\n",
    "education = df.groupby('exposed')[edu_list].sum().plot(kind='bar')\n"
   ]
  },
  {
   "cell_type": "markdown",
   "id": "d4bbf54b-eb42-4442-95a9-f9fbb7a6c002",
   "metadata": {},
   "source": [
    "Gender"
   ]
  },
  {
   "cell_type": "code",
   "execution_count": 71,
   "id": "02e2c203-afa7-42ea-901d-d6d5a63def7a",
   "metadata": {},
   "outputs": [
    {
     "data": {
      "text/plain": [
       "<AxesSubplot:xlabel='exposed'>"
      ]
     },
     "execution_count": 71,
     "metadata": {},
     "output_type": "execute_result"
    },
    {
     "data": {
      "image/png": "[encoded data removed]",
      "text/plain": [
       "<Figure size 432x288 with 1 Axes>"
      ]
     },
     "metadata": {
      "needs_background": "light"
     },
     "output_type": "display_data"
    }
   ],
   "source": [
    "gender_list = ['gender_M', 'gender_F', 'gender_I']\n",
    "gender = df.groupby('exposed')[gender_list].sum().plot(kind='bar')\n",
    "gender"
   ]
  },
  {
   "cell_type": "markdown",
   "id": "0a305ee3-ede8-4c15-9187-87df993eafeb",
   "metadata": {},
   "source": [
    "### Comparing means to find largest differences between the exposed and control group"
   ]
  },
  {
   "cell_type": "code",
   "execution_count": 72,
   "id": "e530c879-3088-4245-8120-bd844b9d4053",
   "metadata": {},
   "outputs": [],
   "source": [
    "def find_variables_with_largest_differences(dataset1, dataset2, num_top_variables=10):\n",
    "    # Step 2: Calculate Differences\n",
    "    differences = {}\n",
    "    for column in dataset1.columns:\n",
    "        if dataset1[column].nunique() == 2 and dataset2[column].nunique() == 2:\n",
    "            proportion_dataset1 = dataset1[column].mean()\n",
    "            proportion_dataset2 = dataset2[column].mean()\n",
    "            absolute_difference = abs(proportion_dataset1 - proportion_dataset2)\n",
    "            differences[column] = {\n",
    "                'dataset1_mean': proportion_dataset1,\n",
    "                'dataset2_mean': proportion_dataset2,\n",
    "                'absolute_difference': absolute_difference\n",
    "            }\n",
    "\n",
    "    # Step 3: Sort and Select Top Variables\n",
    "    sorted_differences = sorted(differences.items(), key=lambda x: x[1]['absolute_difference'], reverse=True)\n",
    "    top_variables = [item[0] for item in sorted_differences[:num_top_variables]]\n",
    "    top_variables_info = {item[0]: item[1] for item in sorted_differences[:num_top_variables]}\n",
    "\n",
    "    return top_variables, top_variables_info"
   ]
  },
  {
   "cell_type": "markdown",
   "id": "f303390d-592d-4b01-9eca-99239f612e21",
   "metadata": {},
   "source": [
    "What are the top attributes that make the Treatment Group different from the Control group?"
   ]
  },
  {
   "cell_type": "code",
   "execution_count": 81,
   "id": "681ddba4-95b1-47b5-923e-12f9b9293c70",
   "metadata": {},
   "outputs": [],
   "source": [
    "num_top_variables = 10\n",
    "top_variables, top_variables_info = find_variables_with_largest_differences(df_control, df_exposed, num_top_variables)\n",
    "data_dictionary['column_name'] = data_dictionary['column_name'].str.lower()\n",
    "top_variables = pd.Series(top_variables, name = 'top_variables')\n",
    "merged_dictionary = data_dictionary.merge(top_variables, left_on='column_name', right_on='top_variables', how='inner')"
   ]
  },
  {
   "cell_type": "code",
   "execution_count": 80,
   "id": "c3de9f09-1250-4c6c-8937-085338450374",
   "metadata": {},
   "outputs": [
    {
     "name": "stdout",
     "output_type": "stream",
     "text": [
      "High # of Active Retail Cards\n",
      "Control Mean: 0.381\n",
      "Exposed Mean: 0.719\n",
      "Absolute Difference: 0.338\n",
      "\n",
      "0 Children in Household\n",
      "Control Mean: 0.376\n",
      "Exposed Mean: 0.082\n",
      "Absolute Difference: 0.293\n",
      "\n",
      "Cooking\n",
      "Control Mean: 0.385\n",
      "Exposed Mean: 0.655\n",
      "Absolute Difference: 0.270\n",
      "\n",
      "Gourmet Cooking\n",
      "Control Mean: 0.354\n",
      "Exposed Mean: 0.616\n",
      "Absolute Difference: 0.262\n",
      "\n",
      "Children in Household - All Ages\n",
      "Control Mean: 0.372\n",
      "Exposed Mean: 0.620\n",
      "Absolute Difference: 0.248\n",
      "\n",
      "Hobbyists\n",
      "Control Mean: 0.335\n",
      "Exposed Mean: 0.581\n",
      "Absolute Difference: 0.246\n",
      "\n",
      "Avid Reader\n",
      "Control Mean: 0.440\n",
      "Exposed Mean: 0.686\n",
      "Absolute Difference: 0.245\n",
      "\n",
      "Food\n",
      "Control Mean: 0.310\n",
      "Exposed Mean: 0.548\n",
      "Absolute Difference: 0.238\n",
      "\n",
      "Crafts\n",
      "Control Mean: 0.324\n",
      "Exposed Mean: 0.559\n",
      "Absolute Difference: 0.235\n",
      "\n",
      "Travel\n",
      "Control Mean: 0.431\n",
      "Exposed Mean: 0.666\n",
      "Absolute Difference: 0.234\n",
      "\n"
     ]
    }
   ],
   "source": [
    "for variable in top_variables:\n",
    "    print(data_dictionary[data_dictionary['column_name']==variable]['attribute_name'].item())\n",
    "    print(f\"Control Mean: {top_variables_info[variable]['dataset1_mean']:.3f}\")\n",
    "    print(f\"Exposed Mean: {top_variables_info[variable]['dataset2_mean']:.3f}\")\n",
    "    print(f\"Absolute Difference: {top_variables_info[variable]['absolute_difference']:.3f}\")\n",
    "    print()"
   ]
  },
  {
   "cell_type": "markdown",
   "id": "a731ae51-e2ac-419e-aeae-a2ea9ca21e82",
   "metadata": {},
   "source": [
    "## Conducting factor analysis to reduce dimensions before clustering."
   ]
  },
  {
   "cell_type": "code",
   "execution_count": 82,
   "id": "d8c4ad76-82e5-4a9f-9cd5-79062fb2a7d4",
   "metadata": {},
   "outputs": [],
   "source": [
    "# Standardize all variables except dummy variables.\n",
    "scaler = StandardScaler()\n",
    "data_scaled = pd.DataFrame(scaler.fit_transform(df[non_dummy_columns]), columns=filtered_data.columns)"
   ]
  },
  {
   "cell_type": "code",
   "execution_count": 83,
   "id": "28a855d0-51ba-460a-b5a1-64743eec87f2",
   "metadata": {},
   "outputs": [],
   "source": [
    "## Set the data to a matrix\n",
    "TD = np.array(data_scaled)"
   ]
  },
  {
   "cell_type": "code",
   "execution_count": 84,
   "id": "addf15aa-de01-4d69-9887-d7f4347218fb",
   "metadata": {},
   "outputs": [
    {
     "name": "stdout",
     "output_type": "stream",
     "text": [
      "[2.59147778e-01 7.03079389e-02 4.88054637e-02 4.59532651e-02\n",
      " 3.60354922e-02 3.20938264e-02 2.72571231e-02 2.47353085e-02\n",
      " 2.31737982e-02 2.06731428e-02 2.01747316e-02 1.86098614e-02\n",
      " 1.83649173e-02 1.82078482e-02 1.76068787e-02 1.74403898e-02\n",
      " 1.70253167e-02 1.69586679e-02 1.64766226e-02 1.53527273e-02\n",
      " 1.49261481e-02 1.43985518e-02 1.40790902e-02 1.29520015e-02\n",
      " 1.28907221e-02 1.27513465e-02 1.21537450e-02 1.17484800e-02\n",
      " 1.10080074e-02 9.85039762e-03 9.08045469e-03 8.97247308e-03\n",
      " 8.72968673e-03 8.40426459e-03 8.00219849e-03 7.67218382e-03\n",
      " 7.19951579e-03 6.70718876e-03 6.09977087e-03 5.67119857e-03\n",
      " 4.72652745e-03 4.26908645e-03 4.13321194e-03 3.89846558e-03\n",
      " 3.35700892e-03 2.98682854e-03 2.15797639e-03 1.55836208e-03\n",
      " 1.17227706e-03 1.06053079e-03 8.94330086e-04 7.10013320e-04\n",
      " 5.43798841e-04 4.45853961e-04 2.46912531e-04 1.40292143e-04\n",
      " 1.78656906e-33]\n"
     ]
    }
   ],
   "source": [
    "pca = decomposition.PCA() ## create the function\n",
    "XTrans = pca.fit_transform(data_scaled) ## apply PCA on data set\n",
    "print(pca.explained_variance_ratio_) ## get the percent explained for each PC"
   ]
  },
  {
   "cell_type": "markdown",
   "id": "e7cb22ba-53cc-46e3-a1bd-78efb87fc3c2",
   "metadata": {},
   "source": [
    "#### Examining the Explained Variance Ratio "
   ]
  },
  {
   "cell_type": "code",
   "execution_count": 85,
   "id": "99ccd1db-5997-414a-a808-d7a9e4a64214",
   "metadata": {},
   "outputs": [
    {
     "data": {
      "image/png": "[encoded data removed]",
      "text/plain": [
       "<Figure size 432x288 with 1 Axes>"
      ]
     },
     "metadata": {
      "needs_background": "light"
     },
     "output_type": "display_data"
    }
   ],
   "source": [
    "# Displaying the individual contribution of each component\n",
    "plt.plot((pca.explained_variance_ratio_[0:10]))\n",
    "plt.xlabel('number of components')\n",
    "plt.ylabel(\"Individual Components' explained variance\")\n",
    "plt.show()"
   ]
  },
  {
   "cell_type": "code",
   "execution_count": 86,
   "id": "33e997a3-c6a3-449e-a7bf-3d1b40ffcc50",
   "metadata": {},
   "outputs": [
    {
     "data": {
      "image/png": "[encoded data removed]",
      "text/plain": [
       "<Figure size 432x288 with 1 Axes>"
      ]
     },
     "metadata": {
      "needs_background": "light"
     },
     "output_type": "display_data"
    }
   ],
   "source": [
    "# Displaying the combined contribution of the components\n",
    "plt.plot(np.cumsum(pca.explained_variance_ratio_))\n",
    "plt.xlabel('number of components')\n",
    "plt.ylabel('cumulative explained variance')\n",
    "plt.show()"
   ]
  },
  {
   "cell_type": "code",
   "execution_count": 87,
   "id": "ae0d71b5-003b-439a-a565-4709001cde8c",
   "metadata": {},
   "outputs": [
    {
     "name": "stdout",
     "output_type": "stream",
     "text": [
      "Having 30 components will explain 89.0% of the data\n"
     ]
    }
   ],
   "source": [
    "# choose the number of components you would like to include: \n",
    "numDimensions = 30\n",
    "pct_of_data_explained = round(sum(pca.explained_variance_ratio_[0:numDimensions]),2)*100\n",
    "print(f\"Having {numDimensions} components will explain {pct_of_data_explained}% of the data\") "
   ]
  },
  {
   "cell_type": "code",
   "execution_count": 100,
   "id": "8504570a-0f19-422c-b171-56166f1f7898",
   "metadata": {},
   "outputs": [
    {
     "data": {
      "text/html": [
       "<div>\n",
       "<style scoped>\n",
       "    .dataframe tbody tr th:only-of-type {\n",
       "        vertical-align: middle;\n",
       "    }\n",
       "\n",
       "    .dataframe tbody tr th {\n",
       "        vertical-align: top;\n",
       "    }\n",
       "\n",
       "    .dataframe thead th {\n",
       "        text-align: right;\n",
       "    }\n",
       "</style>\n",
       "<table border=\"1\" class=\"dataframe\">\n",
       "  <thead>\n",
       "    <tr style=\"text-align: right;\">\n",
       "      <th></th>\n",
       "      <th>0</th>\n",
       "      <th>1</th>\n",
       "      <th>2</th>\n",
       "      <th>3</th>\n",
       "      <th>4</th>\n",
       "      <th>5</th>\n",
       "      <th>6</th>\n",
       "      <th>7</th>\n",
       "      <th>8</th>\n",
       "      <th>9</th>\n",
       "      <th>10</th>\n",
       "      <th>11</th>\n",
       "      <th>12</th>\n",
       "      <th>13</th>\n",
       "      <th>14</th>\n",
       "      <th>15</th>\n",
       "      <th>16</th>\n",
       "      <th>17</th>\n",
       "      <th>18</th>\n",
       "      <th>19</th>\n",
       "      <th>20</th>\n",
       "      <th>21</th>\n",
       "      <th>22</th>\n",
       "      <th>23</th>\n",
       "      <th>24</th>\n",
       "      <th>25</th>\n",
       "      <th>26</th>\n",
       "      <th>27</th>\n",
       "      <th>28</th>\n",
       "      <th>exposed</th>\n",
       "    </tr>\n",
       "  </thead>\n",
       "  <tbody>\n",
       "    <tr>\n",
       "      <th>count</th>\n",
       "      <td>1968.000000</td>\n",
       "      <td>1968.000000</td>\n",
       "      <td>1968.000000</td>\n",
       "      <td>1968.000000</td>\n",
       "      <td>1968.000000</td>\n",
       "      <td>1968.000000</td>\n",
       "      <td>1968.000000</td>\n",
       "      <td>1968.000000</td>\n",
       "      <td>1968.000000</td>\n",
       "      <td>1968.000000</td>\n",
       "      <td>1968.000000</td>\n",
       "      <td>1968.000000</td>\n",
       "      <td>1968.000000</td>\n",
       "      <td>1968.000000</td>\n",
       "      <td>1968.000000</td>\n",
       "      <td>1968.000000</td>\n",
       "      <td>1968.000000</td>\n",
       "      <td>1968.000000</td>\n",
       "      <td>1968.000000</td>\n",
       "      <td>1968.000000</td>\n",
       "      <td>1968.000000</td>\n",
       "      <td>1968.000000</td>\n",
       "      <td>1968.000000</td>\n",
       "      <td>1968.000000</td>\n",
       "      <td>1968.000000</td>\n",
       "      <td>1968.000000</td>\n",
       "      <td>1968.000000</td>\n",
       "      <td>1968.000000</td>\n",
       "      <td>1968.000000</td>\n",
       "      <td>1968.000000</td>\n",
       "    </tr>\n",
       "    <tr>\n",
       "      <th>mean</th>\n",
       "      <td>0.020188</td>\n",
       "      <td>-0.006411</td>\n",
       "      <td>-0.000435</td>\n",
       "      <td>-0.000767</td>\n",
       "      <td>0.000112</td>\n",
       "      <td>-0.004517</td>\n",
       "      <td>-0.000476</td>\n",
       "      <td>0.000630</td>\n",
       "      <td>0.001423</td>\n",
       "      <td>0.000976</td>\n",
       "      <td>-0.000677</td>\n",
       "      <td>0.001181</td>\n",
       "      <td>0.002013</td>\n",
       "      <td>0.001375</td>\n",
       "      <td>0.001308</td>\n",
       "      <td>-0.000054</td>\n",
       "      <td>-0.000871</td>\n",
       "      <td>-0.000918</td>\n",
       "      <td>-0.000025</td>\n",
       "      <td>0.001936</td>\n",
       "      <td>-0.000382</td>\n",
       "      <td>0.000179</td>\n",
       "      <td>-0.001496</td>\n",
       "      <td>-0.001122</td>\n",
       "      <td>0.001134</td>\n",
       "      <td>-0.002989</td>\n",
       "      <td>0.000056</td>\n",
       "      <td>-0.000687</td>\n",
       "      <td>0.000681</td>\n",
       "      <td>0.506098</td>\n",
       "    </tr>\n",
       "    <tr>\n",
       "      <th>std</th>\n",
       "      <td>3.795041</td>\n",
       "      <td>1.979711</td>\n",
       "      <td>1.653424</td>\n",
       "      <td>1.606590</td>\n",
       "      <td>1.424985</td>\n",
       "      <td>1.342123</td>\n",
       "      <td>1.237044</td>\n",
       "      <td>1.177419</td>\n",
       "      <td>1.141266</td>\n",
       "      <td>1.078841</td>\n",
       "      <td>1.065421</td>\n",
       "      <td>1.022902</td>\n",
       "      <td>1.013721</td>\n",
       "      <td>1.009988</td>\n",
       "      <td>0.994362</td>\n",
       "      <td>0.990919</td>\n",
       "      <td>0.978560</td>\n",
       "      <td>0.975532</td>\n",
       "      <td>0.963354</td>\n",
       "      <td>0.928447</td>\n",
       "      <td>0.915786</td>\n",
       "      <td>0.901127</td>\n",
       "      <td>0.889004</td>\n",
       "      <td>0.853000</td>\n",
       "      <td>0.848140</td>\n",
       "      <td>0.843287</td>\n",
       "      <td>0.827863</td>\n",
       "      <td>0.812912</td>\n",
       "      <td>0.786392</td>\n",
       "      <td>0.500090</td>\n",
       "    </tr>\n",
       "    <tr>\n",
       "      <th>min</th>\n",
       "      <td>-8.652554</td>\n",
       "      <td>-6.295474</td>\n",
       "      <td>-4.590535</td>\n",
       "      <td>-5.662046</td>\n",
       "      <td>-6.672319</td>\n",
       "      <td>-6.240684</td>\n",
       "      <td>-4.715770</td>\n",
       "      <td>-5.109187</td>\n",
       "      <td>-5.498292</td>\n",
       "      <td>-5.869003</td>\n",
       "      <td>-3.479859</td>\n",
       "      <td>-4.842118</td>\n",
       "      <td>-4.711962</td>\n",
       "      <td>-4.595647</td>\n",
       "      <td>-10.525113</td>\n",
       "      <td>-5.416322</td>\n",
       "      <td>-6.862274</td>\n",
       "      <td>-7.060823</td>\n",
       "      <td>-9.335427</td>\n",
       "      <td>-4.666476</td>\n",
       "      <td>-3.794622</td>\n",
       "      <td>-5.645264</td>\n",
       "      <td>-4.747662</td>\n",
       "      <td>-5.881582</td>\n",
       "      <td>-3.287643</td>\n",
       "      <td>-3.227183</td>\n",
       "      <td>-3.872631</td>\n",
       "      <td>-3.585953</td>\n",
       "      <td>-6.275908</td>\n",
       "      <td>0.000000</td>\n",
       "    </tr>\n",
       "    <tr>\n",
       "      <th>25%</th>\n",
       "      <td>-0.086208</td>\n",
       "      <td>-1.088592</td>\n",
       "      <td>-0.941389</td>\n",
       "      <td>-0.880815</td>\n",
       "      <td>-0.583869</td>\n",
       "      <td>-0.691833</td>\n",
       "      <td>-0.601068</td>\n",
       "      <td>-0.625726</td>\n",
       "      <td>-0.497202</td>\n",
       "      <td>-0.508139</td>\n",
       "      <td>-0.532606</td>\n",
       "      <td>-0.345167</td>\n",
       "      <td>-0.501052</td>\n",
       "      <td>-0.544269</td>\n",
       "      <td>-0.389112</td>\n",
       "      <td>-0.516662</td>\n",
       "      <td>-0.352843</td>\n",
       "      <td>-0.371378</td>\n",
       "      <td>-0.423590</td>\n",
       "      <td>-0.463277</td>\n",
       "      <td>-0.558093</td>\n",
       "      <td>-0.403296</td>\n",
       "      <td>-0.553345</td>\n",
       "      <td>-0.427172</td>\n",
       "      <td>-0.405304</td>\n",
       "      <td>-0.421863</td>\n",
       "      <td>-0.356803</td>\n",
       "      <td>-0.431323</td>\n",
       "      <td>-0.295835</td>\n",
       "      <td>0.000000</td>\n",
       "    </tr>\n",
       "    <tr>\n",
       "      <th>50%</th>\n",
       "      <td>0.820372</td>\n",
       "      <td>-0.134953</td>\n",
       "      <td>-0.139657</td>\n",
       "      <td>-0.149961</td>\n",
       "      <td>-0.072530</td>\n",
       "      <td>-0.126672</td>\n",
       "      <td>-0.048180</td>\n",
       "      <td>0.127321</td>\n",
       "      <td>0.004421</td>\n",
       "      <td>0.040051</td>\n",
       "      <td>-0.101453</td>\n",
       "      <td>-0.007569</td>\n",
       "      <td>-0.020113</td>\n",
       "      <td>-0.004751</td>\n",
       "      <td>0.014251</td>\n",
       "      <td>-0.031785</td>\n",
       "      <td>0.001671</td>\n",
       "      <td>0.030038</td>\n",
       "      <td>0.027154</td>\n",
       "      <td>0.023225</td>\n",
       "      <td>-0.051856</td>\n",
       "      <td>0.029230</td>\n",
       "      <td>-0.015983</td>\n",
       "      <td>-0.030236</td>\n",
       "      <td>-0.004963</td>\n",
       "      <td>-0.011745</td>\n",
       "      <td>-0.014721</td>\n",
       "      <td>-0.030508</td>\n",
       "      <td>0.008674</td>\n",
       "      <td>1.000000</td>\n",
       "    </tr>\n",
       "    <tr>\n",
       "      <th>75%</th>\n",
       "      <td>2.649862</td>\n",
       "      <td>1.080787</td>\n",
       "      <td>0.480995</td>\n",
       "      <td>0.777502</td>\n",
       "      <td>0.564906</td>\n",
       "      <td>0.625943</td>\n",
       "      <td>0.524551</td>\n",
       "      <td>0.732339</td>\n",
       "      <td>0.374687</td>\n",
       "      <td>0.464205</td>\n",
       "      <td>0.353757</td>\n",
       "      <td>0.367654</td>\n",
       "      <td>0.364957</td>\n",
       "      <td>0.494323</td>\n",
       "      <td>0.327367</td>\n",
       "      <td>0.445427</td>\n",
       "      <td>0.339809</td>\n",
       "      <td>0.429878</td>\n",
       "      <td>0.357555</td>\n",
       "      <td>0.462769</td>\n",
       "      <td>0.491504</td>\n",
       "      <td>0.443529</td>\n",
       "      <td>0.562307</td>\n",
       "      <td>0.396166</td>\n",
       "      <td>0.416195</td>\n",
       "      <td>0.395278</td>\n",
       "      <td>0.381189</td>\n",
       "      <td>0.385880</td>\n",
       "      <td>0.263144</td>\n",
       "      <td>1.000000</td>\n",
       "    </tr>\n",
       "    <tr>\n",
       "      <th>max</th>\n",
       "      <td>10.006810</td>\n",
       "      <td>7.840192</td>\n",
       "      <td>10.625450</td>\n",
       "      <td>12.168200</td>\n",
       "      <td>8.218359</td>\n",
       "      <td>10.292963</td>\n",
       "      <td>5.761268</td>\n",
       "      <td>6.287181</td>\n",
       "      <td>10.004665</td>\n",
       "      <td>9.986785</td>\n",
       "      <td>16.898351</td>\n",
       "      <td>8.059143</td>\n",
       "      <td>16.775811</td>\n",
       "      <td>15.233395</td>\n",
       "      <td>18.851009</td>\n",
       "      <td>20.136226</td>\n",
       "      <td>10.186685</td>\n",
       "      <td>16.166198</td>\n",
       "      <td>10.241827</td>\n",
       "      <td>5.892596</td>\n",
       "      <td>6.669836</td>\n",
       "      <td>7.566023</td>\n",
       "      <td>6.291053</td>\n",
       "      <td>6.782197</td>\n",
       "      <td>10.107809</td>\n",
       "      <td>5.277378</td>\n",
       "      <td>4.985655</td>\n",
       "      <td>6.312015</td>\n",
       "      <td>6.361631</td>\n",
       "      <td>1.000000</td>\n",
       "    </tr>\n",
       "  </tbody>\n",
       "</table>\n",
       "</div>"
      ],
      "text/plain": [
       "                 0            1            2            3            4  \\\n",
       "count  1968.000000  1968.000000  1968.000000  1968.000000  1968.000000   \n",
       "mean      0.020188    -0.006411    -0.000435    -0.000767     0.000112   \n",
       "std       3.795041     1.979711     1.653424     1.606590     1.424985   \n",
       "min      -8.652554    -6.295474    -4.590535    -5.662046    -6.672319   \n",
       "25%      -0.086208    -1.088592    -0.941389    -0.880815    -0.583869   \n",
       "50%       0.820372    -0.134953    -0.139657    -0.149961    -0.072530   \n",
       "75%       2.649862     1.080787     0.480995     0.777502     0.564906   \n",
       "max      10.006810     7.840192    10.625450    12.168200     8.218359   \n",
       "\n",
       "                 5            6            7            8            9  \\\n",
       "count  1968.000000  1968.000000  1968.000000  1968.000000  1968.000000   \n",
       "mean     -0.004517    -0.000476     0.000630     0.001423     0.000976   \n",
       "std       1.342123     1.237044     1.177419     1.141266     1.078841   \n",
       "min      -6.240684    -4.715770    -5.109187    -5.498292    -5.869003   \n",
       "25%      -0.691833    -0.601068    -0.625726    -0.497202    -0.508139   \n",
       "50%      -0.126672    -0.048180     0.127321     0.004421     0.040051   \n",
       "75%       0.625943     0.524551     0.732339     0.374687     0.464205   \n",
       "max      10.292963     5.761268     6.287181    10.004665     9.986785   \n",
       "\n",
       "                10           11           12           13           14  \\\n",
       "count  1968.000000  1968.000000  1968.000000  1968.000000  1968.000000   \n",
       "mean     -0.000677     0.001181     0.002013     0.001375     0.001308   \n",
       "std       1.065421     1.022902     1.013721     1.009988     0.994362   \n",
       "min      -3.479859    -4.842118    -4.711962    -4.595647   -10.525113   \n",
       "25%      -0.532606    -0.345167    -0.501052    -0.544269    -0.389112   \n",
       "50%      -0.101453    -0.007569    -0.020113    -0.004751     0.014251   \n",
       "75%       0.353757     0.367654     0.364957     0.494323     0.327367   \n",
       "max      16.898351     8.059143    16.775811    15.233395    18.851009   \n",
       "\n",
       "                15           16           17           18           19  \\\n",
       "count  1968.000000  1968.000000  1968.000000  1968.000000  1968.000000   \n",
       "mean     -0.000054    -0.000871    -0.000918    -0.000025     0.001936   \n",
       "std       0.990919     0.978560     0.975532     0.963354     0.928447   \n",
       "min      -5.416322    -6.862274    -7.060823    -9.335427    -4.666476   \n",
       "25%      -0.516662    -0.352843    -0.371378    -0.423590    -0.463277   \n",
       "50%      -0.031785     0.001671     0.030038     0.027154     0.023225   \n",
       "75%       0.445427     0.339809     0.429878     0.357555     0.462769   \n",
       "max      20.136226    10.186685    16.166198    10.241827     5.892596   \n",
       "\n",
       "                20           21           22           23           24  \\\n",
       "count  1968.000000  1968.000000  1968.000000  1968.000000  1968.000000   \n",
       "mean     -0.000382     0.000179    -0.001496    -0.001122     0.001134   \n",
       "std       0.915786     0.901127     0.889004     0.853000     0.848140   \n",
       "min      -3.794622    -5.645264    -4.747662    -5.881582    -3.287643   \n",
       "25%      -0.558093    -0.403296    -0.553345    -0.427172    -0.405304   \n",
       "50%      -0.051856     0.029230    -0.015983    -0.030236    -0.004963   \n",
       "75%       0.491504     0.443529     0.562307     0.396166     0.416195   \n",
       "max       6.669836     7.566023     6.291053     6.782197    10.107809   \n",
       "\n",
       "                25           26           27           28      exposed  \n",
       "count  1968.000000  1968.000000  1968.000000  1968.000000  1968.000000  \n",
       "mean     -0.002989     0.000056    -0.000687     0.000681     0.506098  \n",
       "std       0.843287     0.827863     0.812912     0.786392     0.500090  \n",
       "min      -3.227183    -3.872631    -3.585953    -6.275908     0.000000  \n",
       "25%      -0.421863    -0.356803    -0.431323    -0.295835     0.000000  \n",
       "50%      -0.011745    -0.014721    -0.030508     0.008674     1.000000  \n",
       "75%       0.395278     0.381189     0.385880     0.263144     1.000000  \n",
       "max       5.277378     4.985655     6.312015     6.361631     1.000000  "
      ]
     },
     "execution_count": 100,
     "metadata": {},
     "output_type": "execute_result"
    }
   ],
   "source": [
    "#Create New Dataframe\n",
    "loadings = XTrans[:,:(29)]\n",
    "loadings = pd.DataFrame(loadings)\n",
    "email_signup_label = df['exposed']\n",
    "loadings = pd.merge(loadings, email_signup_label, left_index=True, right_index=True)\n",
    "loadings.describe()"
   ]
  },
  {
   "cell_type": "markdown",
   "id": "bc6ae3d2-4cd0-4d71-9944-03159058e646",
   "metadata": {},
   "source": [
    "We are looking to segment the Treatment and Control groups using their attributes. Using Cluster analysis:\n",
    "- Recommend the appropriate number of clusters: 2 (treatment and control group).\n",
    "- Explain the similarity measure you applied: I used the Ward criterion which aims to minimize the variance between points within the cluster."
   ]
  },
  {
   "cell_type": "markdown",
   "id": "5a978b2b-9022-4ca5-8be4-329a64a863b4",
   "metadata": {},
   "source": [
    "I'll use the loadings from the factor analysis to do cluster analysis."
   ]
  },
  {
   "cell_type": "code",
   "execution_count": 102,
   "id": "6c18b4f2-91a6-4d02-a491-1ef422daef5e",
   "metadata": {},
   "outputs": [
    {
     "name": "stdout",
     "output_type": "stream",
     "text": [
      "K=1 skipped. Mean computed from data directly.\n",
      "K=2 fitted in 0.2870206832885742 seconds.\n",
      "K=3 fitted in 0.5054562091827393 seconds.\n",
      "K=4 fitted in 0.9977576732635498 seconds.\n",
      "K=5 fitted in 0.7922134399414062 seconds.\n",
      "K=6 fitted in 1.4988362789154053 seconds.\n",
      "K=7 fitted in 0.8958070278167725 seconds.\n",
      "K=8 fitted in 1.0943305492401123 seconds.\n",
      "K=9 fitted in 1.310727834701538 seconds.\n"
     ]
    },
    {
     "data": {
      "text/plain": [
       "<AxesSubplot:xlabel='Number of clusters (k)', ylabel='PCA weighted mean of the clusters'>"
      ]
     },
     "execution_count": 102,
     "metadata": {},
     "output_type": "execute_result"
    },
    {
     "data": {
      "image/png": "[encoded data removed]",
      "text/plain": [
       "<Figure size 432x288 with 1 Axes>"
      ]
     },
     "metadata": {
      "needs_background": "light"
     },
     "output_type": "display_data"
    }
   ],
   "source": [
    "# this will show you the differences between clusters \n",
    "# and how much of the data is in each cluster\n",
    "cgram = Clustergram(range(1, 10))\n",
    "cgram.fit(loadings)\n",
    "cgram.plot()"
   ]
  },
  {
   "cell_type": "code",
   "execution_count": 103,
   "id": "7c8dfdd7-5207-4848-91b5-171ac16e5975",
   "metadata": {},
   "outputs": [
    {
     "data": {
      "image/png": "[encoded data removed]",
      "text/plain": [
       "<Figure size 864x432 with 1 Axes>"
      ]
     },
     "metadata": {
      "needs_background": "light"
     },
     "output_type": "display_data"
    }
   ],
   "source": [
    "Z = linkage(loadings, method='ward')\n",
    "plt.figure(figsize=(12, 6))\n",
    "dendrogram(Z, leaf_rotation=90, leaf_font_size=8)\n",
    "plt.xlabel('Data Points')\n",
    "plt.ylabel('Distance')\n",
    "plt.title('Hierarchical Clustering Dendrogram')\n",
    "plt.show()"
   ]
  },
  {
   "cell_type": "code",
   "execution_count": 104,
   "id": "e6c6f9cf-9275-4346-8d41-e441ca15771e",
   "metadata": {},
   "outputs": [],
   "source": [
    "def agglomerative_fn(data, n_clusters=2):\n",
    "    model = AgglomerativeClustering(n_clusters = n_clusters).fit(data)\n",
    "    \n",
    "    return model"
   ]
  },
  {
   "cell_type": "markdown",
   "id": "ecc12c77-a632-4428-bfcd-7cdcc7be64c0",
   "metadata": {},
   "source": [
    "- Interpret, describe, and validate the cluster - The algorithm I used is based on the idea that points (people) are connected to other people with similar traits rather than people with dissimilar traits, so it starts by putting everybody in a separate cluster and then iteratively places similar people together until everyone is in 2 clusters. \n",
    "\n",
    "Unfortunately, the cluster evaluation scores below show that the clusters don't do a great job of labeling the treatment and control \"cluster\" that a person is in. I tried a couple of other clustering methods like K-means but also got bad scores-- this is probably just due to the nature of the data, although it would be possible if I had more time to try more data cleaning/transformation methods to improve the read."
   ]
  },
  {
   "cell_type": "code",
   "execution_count": 105,
   "id": "ccb61506-5ad8-4363-89d1-2861e66d4103",
   "metadata": {},
   "outputs": [],
   "source": [
    "def build_model(clustering_model, data, labels):\n",
    "    \n",
    "    model = clustering_model(data)\n",
    "\n",
    "    print('homo\\tcompl\\tv-meas\\tARI\\tAMI\\tsilhouette')\n",
    "    print(50 * '-')\n",
    "    \n",
    "    print('%.3f\\t%.3f\\t%.3f\\t%.3f\\t%.3f\\t%.3f'\n",
    "          %(metrics.homogeneity_score(labels, model.labels_),\n",
    "            metrics.completeness_score(labels, model.labels_),\n",
    "            metrics.v_measure_score(labels, model.labels_),\n",
    "            metrics.adjusted_rand_score(labels, model.labels_),\n",
    "            metrics.adjusted_mutual_info_score(labels,  model.labels_),\n",
    "            metrics.silhouette_score(data, model.labels_)))"
   ]
  },
  {
   "cell_type": "code",
   "execution_count": 107,
   "id": "4def3cf8-cab7-4b31-891e-38b98c3c90e7",
   "metadata": {},
   "outputs": [
    {
     "name": "stdout",
     "output_type": "stream",
     "text": [
      "homo\tcompl\tv-meas\tARI\tAMI\tsilhouette\n",
      "--------------------------------------------------\n",
      "0.217\t0.316\t0.258\t0.143\t0.257\t0.331\n"
     ]
    }
   ],
   "source": [
    "labels = loadings['exposed']\n",
    "build_model(agglomerative_fn, loadings, labels)"
   ]
  },
  {
   "cell_type": "markdown",
   "id": "d630abf7-01d7-4c65-801e-150d086cd99f",
   "metadata": {},
   "source": [
    "# Part 2"
   ]
  },
  {
   "cell_type": "markdown",
   "id": "22fe1e58-8833-49cc-868f-0b8bdca9ed1d",
   "metadata": {},
   "source": [
    "In this part of the assignment you are free to use any statistical technique that can help you explain the outcome / response metric from the Treatment group compared to the Control group. You can use logistic regression, propensity score analysis and matching and/or any other technique. The response metric from the Treatment Group is an “Email SignUp”."
   ]
  },
  {
   "cell_type": "code",
   "execution_count": 115,
   "id": "bfa77a62-3665-411b-9b0f-2acb40b5fd04",
   "metadata": {},
   "outputs": [],
   "source": [
    "# Create Train and Test data \n",
    "X_train, X_test, y_train, y_test = train_test_split(df.drop(columns = ['exposed']),df['exposed'],test_size=0.25,random_state=0) \n",
    "X_train.shape, X_test.shape, y_train.shape, y_test.shape,y_train.sum(),y_test.sum()\n",
    "X_train_sample = X_train\n",
    "X_test_sample = X_test\n",
    "\n",
    "y_train_sample = y_train\n",
    "y_test_sample = y_test"
   ]
  },
  {
   "cell_type": "code",
   "execution_count": 116,
   "id": "44d2d22a-ab33-4e75-93e2-1cf8234fa336",
   "metadata": {},
   "outputs": [
    {
     "data": {
      "text/plain": [
       "LogisticRegression(class_weight='auto', solver='newton-cg')"
      ]
     },
     "execution_count": 116,
     "metadata": {},
     "output_type": "execute_result"
    }
   ],
   "source": [
    "############# LogReg\n",
    "LRclf = LogisticRegression(solver = 'newton-cg', class_weight = 'auto')\n",
    "LRclf.fit(X_train_sample, y_train_sample)"
   ]
  },
  {
   "cell_type": "code",
   "execution_count": 117,
   "id": "53338590-ecd6-4484-a2be-05b916343195",
   "metadata": {},
   "outputs": [],
   "source": [
    "lr_features = LRclf.coef_[0]\n",
    "cols = X_train.columns.values"
   ]
  },
  {
   "cell_type": "code",
   "execution_count": 124,
   "id": "773465df-1bde-4384-a815-06b0d216948e",
   "metadata": {},
   "outputs": [],
   "source": [
    "# Create a dataframe with features\n",
    "features_dataframe = pd.DataFrame( {'LR feature importances': lr_features})\n",
    "features_dataframe.set_index(cols, drop=True, inplace=True, verify_integrity = True)\n",
    "fet_vars = [var for var in features_dataframe.columns ]\n",
    "\n",
    "# create scaler\n",
    "scaler = MinMaxScaler(feature_range=(1, 100))\n",
    "#  fit  the scaler to the train set\n",
    "scaler.fit(features_dataframe[fet_vars]) \n",
    "# transform the train and test set\n",
    "features_dataframe[fet_vars] = scaler.transform(features_dataframe[fet_vars])"
   ]
  },
  {
   "cell_type": "markdown",
   "id": "6cdba3b6-912c-4ca1-a325-d6dd1a0b7b24",
   "metadata": {},
   "source": [
    "What are the variables explaining the differences between the Treatment and the Control group?\n",
    "- Treatment Group is more likely to have Lowest Average credit card balance= True (CHC13).\n",
    "- Treatment Group is more likely to be in lower numbered Congressional Districts (~1-10).\n",
    "- Treatment Group is more likely to be Female.\n",
    "- Treatment Group is more likely to like walking.\n",
    "- Treatment group is more likely to own a cat.\n",
    "- Treatment group is more likely to purchase home furnishings.\n"
   ]
  },
  {
   "cell_type": "code",
   "execution_count": 125,
   "id": "0733e78a-5585-4c76-9269-13a70848f3bd",
   "metadata": {},
   "outputs": [
    {
     "data": {
      "text/plain": [
       "<BarContainer object of 37 artists>"
      ]
     },
     "execution_count": 125,
     "metadata": {},
     "output_type": "execute_result"
    },
    {
     "data": {
      "image/png": "[encoded data removed]",
      "text/plain": [
       "<Figure size 864x576 with 2 Axes>"
      ]
     },
     "metadata": {
      "needs_background": "light"
     },
     "output_type": "display_data"
    }
   ],
   "source": [
    "features_dataframe.T.mean().sort_values(ascending=False)[:37].to_csv('key_features_email_signup.csv')\n",
    "key_features = features_dataframe.T.mean().sort_values(ascending=False)[:37]\n",
    "key_features=key_features.drop(index=[])\n",
    "features_dataframe = features_dataframe.T[key_features.index]\n",
    "fig, (ax1, ax2) = plt.subplots(1, 2, figsize=(12, 8))\n",
    "ax1.barh(features_dataframe.columns, features_dataframe.mean())"
   ]
  },
  {
   "cell_type": "markdown",
   "id": "0c5ac369-c334-45f5-b5e1-e7e744af39fb",
   "metadata": {},
   "source": [
    "Did you train your model? Explain - Yes, I trained the logistic regression model to improve classification."
   ]
  },
  {
   "cell_type": "code",
   "execution_count": 126,
   "id": "ba31c877-d998-479d-bd66-5a15b78c0230",
   "metadata": {},
   "outputs": [],
   "source": [
    "predtrn=LRclf.predict_proba(X_train)[:,1]\n",
    "y_test_predict=LRclf.predict_proba(X_test)[:,1]\n",
    "features_dataframe.T.mean().sort_values(ascending=False)[:25]\n",
    "y_train_pred = np.where(predtrn >= 0.006, 1, 0)\n",
    "y_test_pred = np.where(y_test_predict >= 0.006, 1, 0)\n",
    "cm_train = confusion_matrix(y_train_sample, y_train_pred)\n",
    "cm_test = confusion_matrix(y_test_sample, y_test_pred)"
   ]
  },
  {
   "cell_type": "code",
   "execution_count": 127,
   "id": "f95105d8-9cba-4af0-8f0b-a61152eb6681",
   "metadata": {},
   "outputs": [
    {
     "data": {
      "text/plain": [
       "(0.9888617886178862, 0.9998789521228546)"
      ]
     },
     "execution_count": 127,
     "metadata": {},
     "output_type": "execute_result"
    }
   ],
   "source": [
    "# AUC Score\n",
    "roc_auc_score(y_test_sample, y_test_predict),roc_auc_score(y_train_sample, predtrn)"
   ]
  },
  {
   "cell_type": "code",
   "execution_count": 128,
   "id": "ac3c573e-7586-45a3-ad44-19cda233008f",
   "metadata": {},
   "outputs": [
    {
     "name": "stdout",
     "output_type": "stream",
     "text": [
      "[[478 260]\n",
      " [  0 750]]\n",
      "[[162  88]\n",
      " [  0 246]]\n",
      "Train Accuracy0.8252688172043011\n",
      "Test Accuracy0.8225806451612904\n"
     ]
    }
   ],
   "source": [
    "print(cm_train)\n",
    "print(cm_test)\n",
    "print('Train Accuracy' + str(accuracy_score(y_train, y_train_pred)))\n",
    "print('Test Accuracy' + str(accuracy_score(y_test, y_test_pred)))"
   ]
  }
 ],
 "metadata": {
  "kernelspec": {
   "display_name": "Python 3 (ipykernel)",
   "language": "python",
   "name": "python3"
  },
  "language_info": {
   "codemirror_mode": {
    "name": "ipython",
    "version": 3
   },
   "file_extension": ".py",
   "mimetype": "text/x-python",
   "name": "python",
   "nbconvert_exporter": "python",
   "pygments_lexer": "ipython3",
   "version": "3.9.10"
  }
 },
 "nbformat": 4,
 "nbformat_minor": 5
}
