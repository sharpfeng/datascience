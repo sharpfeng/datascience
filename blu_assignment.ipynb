{
 "cells": [
  {
   "cell_type": "code",
   "execution_count": 504,
   "id": "bba929b4-6f8d-4357-80e8-281e78795e32",
   "metadata": {},
   "outputs": [],
   "source": [
    "# %load_ext rpy2.ipython\n",
    "import numpy as np\n",
    "import seaborn as sns\n",
    "import pandas as pd\n",
    "from sklearn.linear_model import LogisticRegression\n",
    "from sklearn.ensemble import RandomForestClassifier\n",
    "import matplotlib.pyplot as plt\n",
    "from scipy.spatial import distance\n",
    "from scipy.cluster.hierarchy import linkage, dendrogram, cut_tree\n",
    "from sklearn.preprocessing import StandardScaler\n",
    "from sklearn.decomposition import PCA\n",
    "from scipy.cluster.hierarchy import fcluster\n",
    "from sklearn import decomposition, mixture\n",
    "from scipy.stats import ttest_ind\n",
    "from clustergram import Clustergram\n",
    "from sklearn.model_selection import train_test_split\n",
    "import warnings\n",
    "from sklearn import metrics\n",
    "from sklearn.cluster import AgglomerativeClustering\n",
    "from sklearn.metrics import confusion_matrix\n",
    "from sklearn.metrics import accuracy_score\n",
    "from sklearn.metrics import roc_auc_score\n",
    "from sklearn import decomposition\n",
    "import numpy.linalg as la\n",
    "warnings.filterwarnings('ignore')\n",
    "pd.set_option('display.max_column', None)\n",
    "pd.set_option('display.max_rows', None)"
   ]
  },
  {
   "cell_type": "markdown",
   "id": "d7979f29-8aa3-4d1a-8e6c-c4913595f9f3",
   "metadata": {},
   "source": [
    "# Part 1\n",
    "\n",
    "## Data Pre-processing\n",
    "\n",
    "Reading in files."
   ]
  },
  {
   "cell_type": "code",
   "execution_count": 505,
   "id": "167cef35-887c-43a5-80bb-e5e923c36d55",
   "metadata": {},
   "outputs": [],
   "source": [
    "control = pd.read_csv('Control_Data.csv') \n",
    "exposed = pd.read_csv('Exposed_Data.csv')\n",
    "data_dictionary = pd.read_csv('data_dictionary.csv')"
   ]
  },
  {
   "cell_type": "code",
   "execution_count": 506,
   "id": "eba44f69-0ef8-4c15-9493-6b58683495ad",
   "metadata": {},
   "outputs": [],
   "source": [
    "exposed['exposed'] = 1\n",
    "control['exposed'] = 0\n",
    "df = pd.concat([exposed, control], ignore_index = True)\n",
    "df['urbanicity'] = df['urbanicity'].replace({'S': 'Suburban',\n",
    "                                             'U': 'Urban',\n",
    "                                             'R': 'Rural'})"
   ]
  },
  {
   "cell_type": "markdown",
   "id": "da4f31e4-6a8c-41ff-a5fb-f8ab815b0f0a",
   "metadata": {},
   "source": [
    "Data cleaning"
   ]
  },
  {
   "cell_type": "code",
   "execution_count": 507,
   "id": "3ae82635-24ec-46cc-b1f8-d70454cafa33",
   "metadata": {},
   "outputs": [],
   "source": [
    "cat = df.columns[df.dtypes=='object']\n",
    "df = pd.get_dummies(df, columns=cat) # change categorical into dummy variables\n",
    "factors = ['zip11', 'cbsa_code', 'census_tract', 'census_block_id', 'census_block_group', 'msa'] #Removing redundant features-- these are all correlated with each other.\n",
    "df = df.drop(columns = factors) \n",
    "df = df.drop(columns=['gender_U']) "
   ]
  },
  {
   "cell_type": "code",
   "execution_count": 508,
   "id": "3a12cb7f-0d5e-4e93-90e4-95b593a68131",
   "metadata": {},
   "outputs": [],
   "source": [
    "df.dropna(axis='columns', thresh= 1600) #drop columns with too many NA\n",
    "# Find the fill rate of each Individual blu ID (row)\n",
    "df['Fill_Rate'] = df.sum(axis = 1) / df.shape[1]\n",
    "indexNames_low_fill_ind = df[df['Fill_Rate'] < .70].index\n",
    "# Deleting Individuals (rows) from data frame with low fill rates.\n",
    "df.drop(indexNames_low_fill_ind, inplace=True)\n",
    "#fill missing values\n",
    "df.drop(columns = ['Fill_Rate'], inplace=True)"
   ]
  },
  {
   "cell_type": "code",
   "execution_count": 509,
   "id": "da08621e-f3ef-491f-88cb-2c008523a6d6",
   "metadata": {},
   "outputs": [],
   "source": [
    "# Filter out binary dummy variables from the DataFrame to get only numeric variables, fill missing values\n",
    "dummy_mask = df.apply(lambda col: set(col.unique()) == {0, 1})\n",
    "non_dummy_columns = df.columns[~dummy_mask]\n",
    "dummy_data = df.columns[dummy_mask]\n",
    "dummy_data = df[dummy_data]\n",
    "filtered_data = df[non_dummy_columns]"
   ]
  },
  {
   "cell_type": "code",
   "execution_count": 510,
   "id": "1d8d5c3c-f729-4dad-921c-57945e184e03",
   "metadata": {},
   "outputs": [],
   "source": [
    "mean_values = df[non_dummy_columns].mean()\n",
    "df[non_dummy_columns] = df[non_dummy_columns].fillna(mean_values)\n",
    "df_control = df.loc[df['exposed'] == 0,]\n",
    "df_exposed = df.loc[df['exposed'] == 1,]"
   ]
  },
  {
   "cell_type": "markdown",
   "id": "51e342af-6e58-4b13-9ee1-02d412957416",
   "metadata": {},
   "source": [
    "## Demographics of the samples"
   ]
  },
  {
   "cell_type": "markdown",
   "id": "45ad54af-be8e-4e0c-b9fe-a938b5157c38",
   "metadata": {},
   "source": [
    "Age and Income"
   ]
  },
  {
   "cell_type": "code",
   "execution_count": 511,
   "id": "0abed2a0-e4c5-4323-abe7-7bf57fd4fd68",
   "metadata": {},
   "outputs": [
    {
     "data": {
      "text/plain": [
       "1    978\n",
       "0    953\n",
       "Name: exposed, dtype: int64"
      ]
     },
     "execution_count": 511,
     "metadata": {},
     "output_type": "execute_result"
    }
   ],
   "source": [
    "df['exposed'].value_counts()"
   ]
  },
  {
   "cell_type": "code",
   "execution_count": 512,
   "id": "21c0c5ce-4252-4c5b-8bcb-26cf08c22653",
   "metadata": {},
   "outputs": [
    {
     "name": "stdout",
     "output_type": "stream",
     "text": [
      "age\n",
      "exposed_Mean: 51.345382\n",
      "exposed_Median: 52.000000\n",
      "control_Mean: 53.486294\n",
      "control_Median: 54.000000\n",
      "\n",
      "income\n",
      "exposed_Mean: 72504.115226\n",
      "exposed_Median: 62000.000000\n",
      "control_Mean: 75236.536431\n",
      "control_Median: 52000.000000\n",
      "\n"
     ]
    },
    {
     "data": {
      "image/png": "[encoded data removed]",
      "text/plain": [
       "<Figure size 1440x576 with 2 Axes>"
      ]
     },
     "metadata": {
      "needs_background": "light"
     },
     "output_type": "display_data"
    }
   ],
   "source": [
    "num = ['age', 'income']\n",
    "fig, axes = plt.subplots(1, 2, figsize=(20, 8))\n",
    "fig.suptitle('Demographics')\n",
    "\n",
    "# Plot\n",
    "for i in range(len(num)):\n",
    "    axes[i].set_title(num[i])\n",
    "    sns.histplot(exposed[num[i]], ax=axes[i], color=\"blue\", label=\"Exposed\")\n",
    "    sns.histplot(control[num[i]], ax=axes[i], color=\"orange\", label=\"Control\")\n",
    "    fig.legend()\n",
    "    print(num[i])\n",
    "    print(\"exposed_Mean: %f\" % exposed[num[i]].mean())\n",
    "    print(\"exposed_Median: %f\" % exposed[num[i]].median())\n",
    "    print(\"control_Mean: %f\" % control[num[i]].mean())\n",
    "    print(\"control_Median: %f\" % control[num[i]].median())\n",
    "    print()"
   ]
  },
  {
   "cell_type": "markdown",
   "id": "6f917b75-0482-4910-ba44-1df2fc11d188",
   "metadata": {},
   "source": [
    "Education"
   ]
  },
  {
   "cell_type": "code",
   "execution_count": 513,
   "id": "77e41a6b-bf16-4206-93c0-543b199f7f5a",
   "metadata": {},
   "outputs": [
    {
     "data": {
      "text/html": [
       "<div>\n",
       "<style scoped>\n",
       "    .dataframe tbody tr th:only-of-type {\n",
       "        vertical-align: middle;\n",
       "    }\n",
       "\n",
       "    .dataframe tbody tr th {\n",
       "        vertical-align: top;\n",
       "    }\n",
       "\n",
       "    .dataframe thead th {\n",
       "        text-align: right;\n",
       "    }\n",
       "</style>\n",
       "<table border=\"1\" class=\"dataframe\">\n",
       "  <thead>\n",
       "    <tr style=\"text-align: right;\">\n",
       "      <th></th>\n",
       "      <th>Education_HighSchool</th>\n",
       "      <th>Education_SomeCollege</th>\n",
       "      <th>Education_CollegeGrad</th>\n",
       "      <th>Education_MastersGrad</th>\n",
       "    </tr>\n",
       "    <tr>\n",
       "      <th>exposed</th>\n",
       "      <th></th>\n",
       "      <th></th>\n",
       "      <th></th>\n",
       "      <th></th>\n",
       "    </tr>\n",
       "  </thead>\n",
       "  <tbody>\n",
       "    <tr>\n",
       "      <th>0</th>\n",
       "      <td>122</td>\n",
       "      <td>119</td>\n",
       "      <td>35</td>\n",
       "      <td>9</td>\n",
       "    </tr>\n",
       "    <tr>\n",
       "      <th>1</th>\n",
       "      <td>206</td>\n",
       "      <td>202</td>\n",
       "      <td>71</td>\n",
       "      <td>9</td>\n",
       "    </tr>\n",
       "  </tbody>\n",
       "</table>\n",
       "</div>"
      ],
      "text/plain": [
       "         Education_HighSchool  Education_SomeCollege  Education_CollegeGrad  \\\n",
       "exposed                                                                       \n",
       "0                         122                    119                     35   \n",
       "1                         206                    202                     71   \n",
       "\n",
       "         Education_MastersGrad  \n",
       "exposed                         \n",
       "0                            9  \n",
       "1                            9  "
      ]
     },
     "execution_count": 513,
     "metadata": {},
     "output_type": "execute_result"
    }
   ],
   "source": [
    "labs = {'edu100': 'Education_HighSchool', \n",
    "        'edu101': 'Education_SomeCollege', \n",
    "        'edu102': 'Education_CollegeGrad',\n",
    "        'edu103': 'Education_MastersGrad'}\n",
    "df = df.rename(columns = labs)\n",
    "edu_list = [i for i in labs.values()]\n",
    "education = df.groupby('exposed')[edu_list].sum()\n",
    "education"
   ]
  },
  {
   "cell_type": "markdown",
   "id": "d4bbf54b-eb42-4442-95a9-f9fbb7a6c002",
   "metadata": {},
   "source": [
    "Gender"
   ]
  },
  {
   "cell_type": "code",
   "execution_count": 514,
   "id": "02e2c203-afa7-42ea-901d-d6d5a63def7a",
   "metadata": {},
   "outputs": [
    {
     "data": {
      "text/html": [
       "<div>\n",
       "<style scoped>\n",
       "    .dataframe tbody tr th:only-of-type {\n",
       "        vertical-align: middle;\n",
       "    }\n",
       "\n",
       "    .dataframe tbody tr th {\n",
       "        vertical-align: top;\n",
       "    }\n",
       "\n",
       "    .dataframe thead th {\n",
       "        text-align: right;\n",
       "    }\n",
       "</style>\n",
       "<table border=\"1\" class=\"dataframe\">\n",
       "  <thead>\n",
       "    <tr style=\"text-align: right;\">\n",
       "      <th></th>\n",
       "      <th>gender_M</th>\n",
       "      <th>gender_F</th>\n",
       "      <th>gender_I</th>\n",
       "    </tr>\n",
       "    <tr>\n",
       "      <th>exposed</th>\n",
       "      <th></th>\n",
       "      <th></th>\n",
       "      <th></th>\n",
       "    </tr>\n",
       "  </thead>\n",
       "  <tbody>\n",
       "    <tr>\n",
       "      <th>0</th>\n",
       "      <td>435</td>\n",
       "      <td>457</td>\n",
       "      <td>38</td>\n",
       "    </tr>\n",
       "    <tr>\n",
       "      <th>1</th>\n",
       "      <td>285</td>\n",
       "      <td>642</td>\n",
       "      <td>37</td>\n",
       "    </tr>\n",
       "  </tbody>\n",
       "</table>\n",
       "</div>"
      ],
      "text/plain": [
       "         gender_M  gender_F  gender_I\n",
       "exposed                              \n",
       "0             435       457        38\n",
       "1             285       642        37"
      ]
     },
     "execution_count": 514,
     "metadata": {},
     "output_type": "execute_result"
    }
   ],
   "source": [
    "gender_list = ['gender_M', 'gender_F', 'gender_I']\n",
    "gender = df.groupby('exposed')[gender_list].sum()\n",
    "gender"
   ]
  },
  {
   "cell_type": "markdown",
   "id": "0a305ee3-ede8-4c15-9187-87df993eafeb",
   "metadata": {},
   "source": [
    "### Comparing means to find largest differences between the exposed and control group"
   ]
  },
  {
   "cell_type": "code",
   "execution_count": 515,
   "id": "e530c879-3088-4245-8120-bd844b9d4053",
   "metadata": {},
   "outputs": [],
   "source": [
    "def find_variables_with_largest_differences(dataset1, dataset2, num_top_variables=10):\n",
    "    # Step 2: Calculate Differences\n",
    "    differences = {}\n",
    "    for column in dataset1.columns:\n",
    "        if dataset1[column].nunique() == 2 and dataset2[column].nunique() == 2:\n",
    "            proportion_dataset1 = dataset1[column].mean()\n",
    "            proportion_dataset2 = dataset2[column].mean()\n",
    "            absolute_difference = abs(proportion_dataset1 - proportion_dataset2)\n",
    "            differences[column] = {\n",
    "                'dataset1_mean': proportion_dataset1,\n",
    "                'dataset2_mean': proportion_dataset2,\n",
    "                'absolute_difference': absolute_difference\n",
    "            }\n",
    "\n",
    "    # Step 3: Sort and Select Top Variables\n",
    "    sorted_differences = sorted(differences.items(), key=lambda x: x[1]['absolute_difference'], reverse=True)\n",
    "    top_variables = [item[0] for item in sorted_differences[:num_top_variables]]\n",
    "    top_variables_info = {item[0]: item[1] for item in sorted_differences[:num_top_variables]}\n",
    "\n",
    "    return top_variables, top_variables_info"
   ]
  },
  {
   "cell_type": "markdown",
   "id": "f303390d-592d-4b01-9eca-99239f612e21",
   "metadata": {},
   "source": [
    "What are the top attributes that make the Treatment Group different from the Control group?"
   ]
  },
  {
   "cell_type": "code",
   "execution_count": 516,
   "id": "681ddba4-95b1-47b5-923e-12f9b9293c70",
   "metadata": {},
   "outputs": [],
   "source": [
    "num_top_variables = 10\n",
    "top_variables, top_variables_info = find_variables_with_largest_differences(df_control, df_exposed, num_top_variables)\n",
    "data_dictionary['column_name'] = data_dictionary['column_name'].str.lower()"
   ]
  },
  {
   "cell_type": "code",
   "execution_count": 517,
   "id": "c3de9f09-1250-4c6c-8937-085338450374",
   "metadata": {},
   "outputs": [
    {
     "name": "stdout",
     "output_type": "stream",
     "text": [
      "chr04\n",
      "Attribute Name: chr04\n",
      "Control Mean: 0.389\n",
      "Exposed Mean: 0.720\n",
      "Absolute Difference: 0.331\n",
      "\n",
      "child0\n",
      "Attribute Name: child0\n",
      "Control Mean: 0.367\n",
      "Exposed Mean: 0.083\n",
      "Absolute Difference: 0.284\n",
      "\n",
      "hobby_cooking\n",
      "Attribute Name: hobby_cooking\n",
      "Control Mean: 0.391\n",
      "Exposed Mean: 0.657\n",
      "Absolute Difference: 0.266\n",
      "\n",
      "hobby_cooking_gourmet\n",
      "Attribute Name: hobby_cooking_gourmet\n",
      "Control Mean: 0.361\n",
      "Exposed Mean: 0.619\n",
      "Absolute Difference: 0.258\n",
      "\n",
      "hobbyists\n",
      "Attribute Name: hobbyists\n",
      "Control Mean: 0.341\n",
      "Exposed Mean: 0.583\n",
      "Absolute Difference: 0.242\n",
      "\n",
      "poc\n",
      "Attribute Name: poc\n",
      "Control Mean: 0.382\n",
      "Exposed Mean: 0.624\n",
      "Absolute Difference: 0.242\n",
      "\n",
      "avid_readers\n",
      "Attribute Name: avid_readers\n",
      "Control Mean: 0.449\n",
      "Exposed Mean: 0.689\n",
      "Absolute Difference: 0.240\n",
      "\n",
      "food\n",
      "Attribute Name: food\n",
      "Control Mean: 0.315\n",
      "Exposed Mean: 0.549\n",
      "Absolute Difference: 0.234\n",
      "\n",
      "hobby_crafts\n",
      "Attribute Name: hobby_crafts\n",
      "Control Mean: 0.331\n",
      "Exposed Mean: 0.563\n",
      "Absolute Difference: 0.233\n",
      "\n",
      "travel\n",
      "Attribute Name: travel\n",
      "Control Mean: 0.441\n",
      "Exposed Mean: 0.670\n",
      "Absolute Difference: 0.229\n",
      "\n"
     ]
    }
   ],
   "source": [
    "for variable in top_variables:\n",
    "    print(variable)\n",
    "    print(f\"Attribute Name: {variable}\")\n",
    "    print(f\"Control Mean: {top_variables_info[variable]['dataset1_mean']:.3f}\")\n",
    "    print(f\"Exposed Mean: {top_variables_info[variable]['dataset2_mean']:.3f}\")\n",
    "    print(f\"Absolute Difference: {top_variables_info[variable]['absolute_difference']:.3f}\")\n",
    "    print()"
   ]
  },
  {
   "cell_type": "markdown",
   "id": "a731ae51-e2ac-419e-aeae-a2ea9ca21e82",
   "metadata": {},
   "source": [
    "## Conducting factor analysis to reduce dimensions before clustering."
   ]
  },
  {
   "cell_type": "code",
   "execution_count": 518,
   "id": "d8c4ad76-82e5-4a9f-9cd5-79062fb2a7d4",
   "metadata": {},
   "outputs": [],
   "source": [
    "# Standardize all variables except dummy variables.\n",
    "scaler = StandardScaler()\n",
    "data_scaled = pd.DataFrame(scaler.fit_transform(df[non_dummy_columns]), columns=filtered_data.columns)"
   ]
  },
  {
   "cell_type": "code",
   "execution_count": 519,
   "id": "28a855d0-51ba-460a-b5a1-64743eec87f2",
   "metadata": {},
   "outputs": [],
   "source": [
    "## Set the data to a matrix\n",
    "TD = np.array(data_scaled)"
   ]
  },
  {
   "cell_type": "code",
   "execution_count": 520,
   "id": "addf15aa-de01-4d69-9887-d7f4347218fb",
   "metadata": {},
   "outputs": [
    {
     "name": "stdout",
     "output_type": "stream",
     "text": [
      "[2.59171198e-01 7.04798039e-02 4.88084839e-02 4.59730786e-02\n",
      " 3.60518191e-02 3.20865292e-02 2.72585751e-02 2.47265634e-02\n",
      " 2.31722641e-02 2.06499553e-02 2.01744785e-02 1.86095636e-02\n",
      " 1.83473443e-02 1.82158284e-02 1.76070019e-02 1.74067526e-02\n",
      " 1.70246561e-02 1.69474952e-02 1.64808042e-02 1.53140635e-02\n",
      " 1.49254836e-02 1.43970895e-02 1.40269662e-02 1.29384356e-02\n",
      " 1.28586835e-02 1.27939628e-02 1.21497970e-02 1.17247590e-02\n",
      " 1.10085772e-02 9.84473464e-03 9.08240677e-03 8.96918272e-03\n",
      " 8.72915517e-03 8.39583085e-03 7.99993246e-03 7.67153537e-03\n",
      " 7.19939132e-03 6.70650221e-03 6.09957344e-03 5.69137517e-03\n",
      " 4.72719132e-03 4.26267067e-03 4.13243022e-03 3.87281073e-03\n",
      " 3.35503256e-03 3.00114606e-03 2.15773820e-03 1.55823723e-03\n",
      " 1.17187113e-03 1.06032610e-03 8.94278633e-04 7.09965331e-04\n",
      " 5.43697803e-04 4.45841072e-04 2.46862648e-04 1.40266741e-04\n",
      " 1.78382677e-33 1.78382677e-33 1.78382677e-33 1.78382677e-33\n",
      " 1.78382677e-33 1.78382677e-33 1.78382677e-33 1.78382677e-33\n",
      " 1.78382677e-33 1.78382677e-33 1.78382677e-33 1.78382677e-33\n",
      " 1.78382677e-33 1.78382677e-33 1.78382677e-33 1.78382677e-33\n",
      " 1.78382677e-33 1.78382677e-33 1.78382677e-33 1.78382677e-33\n",
      " 1.78382677e-33 1.78382677e-33 1.78382677e-33 1.78382677e-33\n",
      " 1.78382677e-33 1.78382677e-33]\n"
     ]
    }
   ],
   "source": [
    "pca = decomposition.PCA() ## create the function\n",
    "XTrans = pca.fit_transform(data_scaled) ## apply PCA on data set\n",
    "print(pca.explained_variance_ratio_) ## get the percent explained for each PC"
   ]
  },
  {
   "cell_type": "markdown",
   "id": "e7cb22ba-53cc-46e3-a1bd-78efb87fc3c2",
   "metadata": {},
   "source": [
    "#### Examining the Explained Variance Ratio "
   ]
  },
  {
   "cell_type": "code",
   "execution_count": 521,
   "id": "99ccd1db-5997-414a-a808-d7a9e4a64214",
   "metadata": {},
   "outputs": [
    {
     "data": {
      "image/png": "[encoded data removed]",
      "text/plain": [
       "<Figure size 432x288 with 1 Axes>"
      ]
     },
     "metadata": {
      "needs_background": "light"
     },
     "output_type": "display_data"
    }
   ],
   "source": [
    "# Displaying the individual contribution of each component\n",
    "plt.plot((pca.explained_variance_ratio_[0:10]))\n",
    "plt.xlabel('number of components')\n",
    "plt.ylabel(\"Individual Components' explained variance\")\n",
    "plt.show()"
   ]
  },
  {
   "cell_type": "code",
   "execution_count": 522,
   "id": "33e997a3-c6a3-449e-a7bf-3d1b40ffcc50",
   "metadata": {},
   "outputs": [
    {
     "data": {
      "image/png": "[encoded data removed]",
      "text/plain": [
       "<Figure size 432x288 with 1 Axes>"
      ]
     },
     "metadata": {
      "needs_background": "light"
     },
     "output_type": "display_data"
    }
   ],
   "source": [
    "# Displaying the combined contribution of the components\n",
    "plt.plot(np.cumsum(pca.explained_variance_ratio_))\n",
    "plt.xlabel('number of components')\n",
    "plt.ylabel('cumulative explained variance')\n",
    "plt.show()"
   ]
  },
  {
   "cell_type": "code",
   "execution_count": 523,
   "id": "ae0d71b5-003b-439a-a565-4709001cde8c",
   "metadata": {},
   "outputs": [
    {
     "name": "stdout",
     "output_type": "stream",
     "text": [
      "Having 30 components will explain 89.0% of the data\n"
     ]
    }
   ],
   "source": [
    "# choose the number of components you would like to include: \n",
    "numDimensions = 30\n",
    "pct_of_data_explained = round(sum(pca.explained_variance_ratio_[0:numDimensions]),2)*100\n",
    "print(f\"Having {numDimensions} components will explain {pct_of_data_explained}% of the data\") "
   ]
  },
  {
   "cell_type": "code",
   "execution_count": 525,
   "id": "8504570a-0f19-422c-b171-56166f1f7898",
   "metadata": {},
   "outputs": [],
   "source": [
    "#Create New Dataframe\n",
    "loadings = XTrans[:,:(29)]\n",
    "loadings = pd.DataFrame(loadings)\n",
    "#loadings.info()"
   ]
  },
  {
   "cell_type": "markdown",
   "id": "bc6ae3d2-4cd0-4d71-9944-03159058e646",
   "metadata": {},
   "source": [
    "We are looking to segment the Treatment and Control groups using their attributes. Using Cluster analysis:\n",
    "- Recommend the appropriate number of clusters: 2 (treatment and control group).\n",
    "- Explain the similarity measure you applied: I used the Ward criterion which aims to minimize the variance between points within the cluster."
   ]
  },
  {
   "cell_type": "markdown",
   "id": "5a978b2b-9022-4ca5-8be4-329a64a863b4",
   "metadata": {},
   "source": [
    "I'll use the loadings from the factor analysis to do cluster analysis."
   ]
  },
  {
   "cell_type": "code",
   "execution_count": 526,
   "id": "6c18b4f2-91a6-4d02-a491-1ef422daef5e",
   "metadata": {},
   "outputs": [
    {
     "name": "stdout",
     "output_type": "stream",
     "text": [
      "K=1 skipped. Mean computed from data directly.\n",
      "K=2 fitted in 0.1605205535888672 seconds.\n",
      "K=3 fitted in 0.3897082805633545 seconds.\n",
      "K=4 fitted in 0.8955056667327881 seconds.\n",
      "K=5 fitted in 1.0020580291748047 seconds.\n",
      "K=6 fitted in 1.0002562999725342 seconds.\n",
      "K=7 fitted in 1.9015443325042725 seconds.\n",
      "K=8 fitted in 0.699803352355957 seconds.\n",
      "K=9 fitted in 1.017493724822998 seconds.\n"
     ]
    },
    {
     "data": {
      "text/plain": [
       "<AxesSubplot:xlabel='Number of clusters (k)', ylabel='PCA weighted mean of the clusters'>"
      ]
     },
     "execution_count": 526,
     "metadata": {},
     "output_type": "execute_result"
    },
    {
     "data": {
      "image/png": "[encoded data removed]",
      "text/plain": [
       "<Figure size 432x288 with 1 Axes>"
      ]
     },
     "metadata": {
      "needs_background": "light"
     },
     "output_type": "display_data"
    }
   ],
   "source": [
    "# this will show you the differences between clusters \n",
    "# and how much of the data is in each cluster\n",
    "cgram = Clustergram(range(1, 10))\n",
    "cgram.fit(loadings)\n",
    "cgram.plot()"
   ]
  },
  {
   "cell_type": "code",
   "execution_count": 485,
   "id": "7c8dfdd7-5207-4848-91b5-171ac16e5975",
   "metadata": {},
   "outputs": [
    {
     "data": {
      "image/png": "[encoded data removed]",
      "text/plain": [
       "<Figure size 864x432 with 1 Axes>"
      ]
     },
     "metadata": {
      "needs_background": "light"
     },
     "output_type": "display_data"
    }
   ],
   "source": [
    "Z = linkage(loadings, method='ward')\n",
    "plt.figure(figsize=(12, 6))\n",
    "dendrogram(Z, leaf_rotation=90, leaf_font_size=8)\n",
    "plt.xlabel('Data Points')\n",
    "plt.ylabel('Distance')\n",
    "plt.title('Hierarchical Clustering Dendrogram')\n",
    "plt.show()"
   ]
  },
  {
   "cell_type": "code",
   "execution_count": 486,
   "id": "e6c6f9cf-9275-4346-8d41-e441ca15771e",
   "metadata": {},
   "outputs": [],
   "source": [
    "def agglomerative_fn(data, n_clusters=2):\n",
    "    model = AgglomerativeClustering(n_clusters = n_clusters).fit(data)\n",
    "    \n",
    "    return model"
   ]
  },
  {
   "cell_type": "markdown",
   "id": "ecc12c77-a632-4428-bfcd-7cdcc7be64c0",
   "metadata": {},
   "source": [
    "- Interpret, describe, and validate the cluster - The algorithm I used is based on the idea that points (people) are connected to other people with similar traits rather than people with dissimilar traits, so it starts by putting everybody in a separate cluster and then iteratively places similar people together until everyone is in 2 clusters. \n",
    "\n",
    "Unfortunately, the cluster evaluation scores below show that the clusters don't do a great job of labeling the treatment and control \"cluster\" that a person is in. I tried a couple of other clustering methods like K-means but also got bad scores-- this is probably just due to the nature of the data, although it would be possible if I had more time to try more data cleaning/transformation methods to improve the read."
   ]
  },
  {
   "cell_type": "code",
   "execution_count": 487,
   "id": "ccb61506-5ad8-4363-89d1-2861e66d4103",
   "metadata": {},
   "outputs": [],
   "source": [
    "def build_model(clustering_model, data, labels):\n",
    "    \n",
    "    model = clustering_model(data)\n",
    "\n",
    "    print('homo\\tcompl\\tv-meas\\tARI\\tAMI\\tsilhouette')\n",
    "    print(50 * '-')\n",
    "    \n",
    "    print('%.3f\\t%.3f\\t%.3f\\t%.3f\\t%.3f\\t%.3f'\n",
    "          %(metrics.homogeneity_score(labels, model.labels_),\n",
    "            metrics.completeness_score(labels, model.labels_),\n",
    "            metrics.v_measure_score(labels, model.labels_),\n",
    "            metrics.adjusted_rand_score(labels, model.labels_),\n",
    "            metrics.adjusted_mutual_info_score(labels,  model.labels_),\n",
    "            metrics.silhouette_score(data, model.labels_)))"
   ]
  },
  {
   "cell_type": "code",
   "execution_count": 488,
   "id": "4def3cf8-cab7-4b31-891e-38b98c3c90e7",
   "metadata": {},
   "outputs": [
    {
     "name": "stdout",
     "output_type": "stream",
     "text": [
      "homo\tcompl\tv-meas\tARI\tAMI\tsilhouette\n",
      "--------------------------------------------------\n",
      "0.228\t0.324\t0.268\t0.155\t0.267\t0.328\n"
     ]
    }
   ],
   "source": [
    "build_model(agglomerative_fn, loadings, labels)"
   ]
  },
  {
   "cell_type": "markdown",
   "id": "d630abf7-01d7-4c65-801e-150d086cd99f",
   "metadata": {},
   "source": [
    "# Part 2"
   ]
  },
  {
   "cell_type": "markdown",
   "id": "22fe1e58-8833-49cc-868f-0b8bdca9ed1d",
   "metadata": {},
   "source": [
    "In this part of the assignment you are free to use any statistical technique that can help you explain the outcome / response metric from the Treatment group compared to the Control group. You can use logistic regression, propensity score analysis and matching and/or any other technique. The response metric from the Treatment Group is an “Email SignUp”."
   ]
  },
  {
   "cell_type": "code",
   "execution_count": 489,
   "id": "bfa77a62-3665-411b-9b0f-2acb40b5fd04",
   "metadata": {},
   "outputs": [],
   "source": [
    "# Create Train and Test data \n",
    "X_train, X_test, y_train, y_test = train_test_split(df.drop(columns = ['exposed']),df['exposed'],test_size=0.25,random_state=0) \n",
    "X_train.shape, X_test.shape, y_train.shape, y_test.shape,y_train.sum(),y_test.sum()\n",
    "X_train_sample = X_train\n",
    "X_test_sample = X_test\n",
    "\n",
    "y_train_sample = y_train\n",
    "y_test_sample = y_test"
   ]
  },
  {
   "cell_type": "code",
   "execution_count": 490,
   "id": "44d2d22a-ab33-4e75-93e2-1cf8234fa336",
   "metadata": {},
   "outputs": [
    {
     "data": {
      "text/plain": [
       "LogisticRegression(class_weight='auto', solver='newton-cg')"
      ]
     },
     "execution_count": 490,
     "metadata": {},
     "output_type": "execute_result"
    }
   ],
   "source": [
    "############# LogReg\n",
    "LRclf = LogisticRegression(solver = 'newton-cg', class_weight = 'auto')\n",
    "LRclf.fit(X_train_sample, y_train_sample)"
   ]
  },
  {
   "cell_type": "code",
   "execution_count": 495,
   "id": "53338590-ecd6-4484-a2be-05b916343195",
   "metadata": {},
   "outputs": [],
   "source": [
    "lr_features = LRclf.coef_[0]\n",
    "cols = X_train.columns.values"
   ]
  },
  {
   "cell_type": "code",
   "execution_count": 498,
   "id": "773465df-1bde-4384-a815-06b0d216948e",
   "metadata": {},
   "outputs": [],
   "source": [
    "# Create a dataframe with features\n",
    "features_dataframe = pd.DataFrame( {'LR feature importances': lr_features})\n",
    "features_dataframe.set_index(cols, drop=True, inplace=True, verify_integrity = True)\n",
    "fet_vars = [var for var in features_dataframe.columns ]\n",
    "\n",
    "# create scaler\n",
    "scaler = MinMaxScaler(feature_range=(1, 100))\n",
    "#  fit  the scaler to the train set\n",
    "scaler.fit(features_dataframe[fet_vars]) \n",
    "# transform the train and test set\n",
    "features_dataframe[fet_vars] = scaler.transform(features_dataframe[fet_vars])"
   ]
  },
  {
   "cell_type": "markdown",
   "id": "6cdba3b6-912c-4ca1-a325-d6dd1a0b7b24",
   "metadata": {},
   "source": [
    "What are the variables explaining the differences between the Treatment and the Control group?\n",
    "- Treatment Group is more likely to have Lowest Average credit card balance= True (CHC13).\n",
    "- Treatment Group is more likely to be in lower numbered Congressional Districts (~1-10).\n",
    "- Treatment Group is more likely to be Female.\n",
    "- Treatment Group is more likely to be High School education level.\n",
    "- Treatment Group is more likely to like walking.\n",
    "- Treatment group is more likely to own a cat.\n",
    "- Treatment group is more likely to purchase home furnishings.\n"
   ]
  },
  {
   "cell_type": "code",
   "execution_count": 499,
   "id": "0733e78a-5585-4c76-9269-13a70848f3bd",
   "metadata": {},
   "outputs": [
    {
     "data": {
      "text/plain": [
       "<BarContainer object of 37 artists>"
      ]
     },
     "execution_count": 499,
     "metadata": {},
     "output_type": "execute_result"
    },
    {
     "data": {
      "image/png": "[encoded data removed]",
      "text/plain": [
       "<Figure size 864x576 with 2 Axes>"
      ]
     },
     "metadata": {
      "needs_background": "light"
     },
     "output_type": "display_data"
    }
   ],
   "source": [
    "features_dataframe.T.mean().sort_values(ascending=False)[:37].to_csv('key_features_email_signup.csv')\n",
    "key_features = features_dataframe.T.mean().sort_values(ascending=False)[:37]\n",
    "key_features=key_features.drop(index=[])\n",
    "features_dataframe = features_dataframe.T[key_features.index]\n",
    "fig, (ax1, ax2) = plt.subplots(1, 2, figsize=(12, 8))\n",
    "ax1.barh(features_dataframe.columns, features_dataframe.mean())"
   ]
  },
  {
   "cell_type": "markdown",
   "id": "0c5ac369-c334-45f5-b5e1-e7e744af39fb",
   "metadata": {},
   "source": [
    "Did you train your model? Explain - Yes, I trained the logistic regression model to improve classification."
   ]
  },
  {
   "cell_type": "code",
   "execution_count": 500,
   "id": "ba31c877-d998-479d-bd66-5a15b78c0230",
   "metadata": {},
   "outputs": [],
   "source": [
    "predtrn=LRclf.predict_proba(X_train)[:,1]\n",
    "y_test_predict=LRclf.predict_proba(X_test)[:,1]\n",
    "features_dataframe.T.mean().sort_values(ascending=False)[:25]\n",
    "y_train_pred = np.where(predtrn >= 0.006, 1, 0)\n",
    "y_test_pred = np.where(y_test_predict >= 0.006, 1, 0)\n",
    "cm_train = confusion_matrix(y_train_sample, y_train_pred)\n",
    "cm_test = confusion_matrix(y_test_sample, y_test_pred)"
   ]
  },
  {
   "cell_type": "code",
   "execution_count": 501,
   "id": "f95105d8-9cba-4af0-8f0b-a61152eb6681",
   "metadata": {},
   "outputs": [
    {
     "data": {
      "text/plain": [
       "(0.991408875780232, 1.0)"
      ]
     },
     "execution_count": 501,
     "metadata": {},
     "output_type": "execute_result"
    }
   ],
   "source": [
    "# AUC Score\n",
    "roc_auc_score(y_test_sample, y_test_predict),roc_auc_score(y_train_sample, predtrn)"
   ]
  },
  {
   "cell_type": "code",
   "execution_count": 502,
   "id": "ac3c573e-7586-45a3-ad44-19cda233008f",
   "metadata": {},
   "outputs": [
    {
     "name": "stdout",
     "output_type": "stream",
     "text": [
      "[[501 208]\n",
      " [  0 739]]\n",
      "[[166  78]\n",
      " [  1 238]]\n",
      "Train Accuracy0.856353591160221\n",
      "Test Accuracy0.8364389233954451\n"
     ]
    }
   ],
   "source": [
    "print(cm_train)\n",
    "print(cm_test)\n",
    "print('Train Accuracy' + str(accuracy_score(y_train, y_train_pred)))\n",
    "print('Test Accuracy' + str(accuracy_score(y_test, y_test_pred)))"
   ]
  },
  {
   "cell_type": "markdown",
   "id": "c6227523-ecc4-4fb5-bcf0-d81156d5cc37",
   "metadata": {},
   "source": [
    "<i> Did you get inconclusive results? Was the quality of the data a factor in the inconclusive results? Explain potential reasons the results of your model are inconclusive and/or statistically significant? </i>\n",
    "\n",
    "I received statistically significant results. However, there were data issues that limited the reliability of the modeling results. For example, I was modeling off of the raw data which had a lot of multicollinearity and a lot of missing values. "
   ]
  },
  {
   "cell_type": "code",
   "execution_count": null,
   "id": "c337bf22-18f6-4bc9-97f7-b937f6c32dcd",
   "metadata": {},
   "outputs": [],
   "source": []
  }
 ],
 "metadata": {
  "kernelspec": {
   "display_name": "Python 3 (ipykernel)",
   "language": "python",
   "name": "python3"
  },
  "language_info": {
   "codemirror_mode": {
    "name": "ipython",
    "version": 3
   },
   "file_extension": ".py",
   "mimetype": "text/x-python",
   "name": "python",
   "nbconvert_exporter": "python",
   "pygments_lexer": "ipython3",
   "version": "3.9.10"
  }
 },
 "nbformat": 4,
 "nbformat_minor": 5
}
