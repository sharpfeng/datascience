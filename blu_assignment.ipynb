{
 "cells": [
  {
   "cell_type": "code",
   "execution_count": 1,
   "id": "bba929b4-6f8d-4357-80e8-281e78795e32",
   "metadata": {},
   "outputs": [],
   "source": [
    "# %load_ext rpy2.ipython\n",
    "import numpy as np\n",
    "import seaborn as sns\n",
    "import pandas as pd\n",
    "from sklearn.linear_model import LogisticRegression\n",
    "from sklearn.ensemble import RandomForestClassifier\n",
    "import matplotlib.pyplot as plt\n",
    "from scipy.spatial import distance\n",
    "from scipy.cluster.hierarchy import linkage, dendrogram, cut_tree\n",
    "from sklearn.preprocessing import MinMaxScaler\n",
    "from sklearn.decomposition import PCA\n",
    "from scipy.cluster.hierarchy import fcluster\n",
    "from sklearn import decomposition, mixture\n",
    "from scipy.stats import ttest_ind\n",
    "from clustergram import Clustergram\n",
    "from sklearn.model_selection import train_test_split\n",
    "import warnings\n",
    "from sklearn import metrics\n",
    "from sklearn.metrics import confusion_matrix\n",
    "from sklearn.metrics import accuracy_score\n",
    "from sklearn.metrics import roc_auc_score\n",
    "from sklearn import decomposition\n",
    "import numpy.linalg as la\n",
    "warnings.filterwarnings('ignore')"
   ]
  },
  {
   "cell_type": "markdown",
   "id": "d7979f29-8aa3-4d1a-8e6c-c4913595f9f3",
   "metadata": {},
   "source": [
    "# Part 1\n",
    "\n",
    "## Data Pre-processing\n",
    "\n",
    "Reading in files."
   ]
  },
  {
   "cell_type": "code",
   "execution_count": 2,
   "id": "167cef35-887c-43a5-80bb-e5e923c36d55",
   "metadata": {},
   "outputs": [],
   "source": [
    "control = pd.read_csv('Control_Data.csv') \n",
    "exposed = pd.read_csv('Exposed_Data.csv')\n",
    "data_dictionary = pd.read_csv('data_dictionary.csv')\n",
    "exposed['exposed'] = 1\n",
    "control['exposed'] = 0\n",
    "df = pd.concat([exposed, control], ignore_index = True)"
   ]
  },
  {
   "cell_type": "markdown",
   "id": "da4f31e4-6a8c-41ff-a5fb-f8ab815b0f0a",
   "metadata": {},
   "source": [
    "Data cleaning"
   ]
  },
  {
   "cell_type": "code",
   "execution_count": 33,
   "id": "3ae82635-24ec-46cc-b1f8-d70454cafa33",
   "metadata": {},
   "outputs": [],
   "source": [
    "cat = df.columns[df.dtypes=='object']\n",
    "df = pd.get_dummies(df, columns=cat) # change categorical into dummy variables\n",
    "factors = ['zip11', 'cbsa_code', 'census_tract', 'census_block_id', 'census_block_group', 'msa'] #Removing redundant features-- these are all correlated with each other.\n",
    "df = df.drop(columns = factors) \n",
    "df = df.drop(columns=['gender_U']) "
   ]
  },
  {
   "cell_type": "code",
   "execution_count": null,
   "id": "3a12cb7f-0d5e-4e93-90e4-95b593a68131",
   "metadata": {},
   "outputs": [],
   "source": [
    "df.dropna(axis='columns', thresh= 1600) #drop columns with too many NA\n",
    "# Find the fill rate of each Individual blu ID (row)\n",
    "df['Fill_Rate'] = df.sum(axis = 1) / df.shape[1]\n",
    "indexNames_low_fill_ind = df[df['Fill_Rate'] < .70].index\n",
    "# Deleting Individuals (rows) from data frame with low fill rates.\n",
    "df.drop(indexNames_low_fill_ind, inplace=True)\n",
    "#fill missing values\n",
    "df.drop(columns = ['Fill_Rate'], inplace=True)"
   ]
  },
  {
   "cell_type": "code",
   "execution_count": 31,
   "id": "da08621e-f3ef-491f-88cb-2c008523a6d6",
   "metadata": {},
   "outputs": [
    {
     "data": {
      "text/plain": [
       "gender                                     0\n",
       "income                                     0\n",
       "contributor_index                          0\n",
       "credit_card                                0\n",
       "credit_cards_regular_visa_or_mastercard    0\n",
       "                                          ..\n",
       "chh01                                      0\n",
       "chh04                                      0\n",
       "poc                                        0\n",
       "prpty169                                   0\n",
       "exposed                                    0\n",
       "Length: 454, dtype: int64"
      ]
     },
     "execution_count": 31,
     "metadata": {},
     "output_type": "execute_result"
    }
   ],
   "source": [
    "# Filter out binary dummy variables from the DataFrame to get only numeric variables, fill missing values\n",
    "dummy_mask = df.apply(lambda col: set(col.unique()) == {0, 1})\n",
    "non_dummy_columns = df.columns[~dummy_mask]\n",
    "filtered_data = df[non_dummy_columns]\n",
    "median_values = df[non_dummy_columns].median()\n",
    "df[non_dummy_columns] = df[non_dummy_columns].fillna(median_values)\n",
    "df_control = df.loc[df['exposed'] == 0,]\n",
    "df_exposed = df.loc[df['exposed'] == 1,]\n",
    "df.isna().sum()"
   ]
  },
  {
   "cell_type": "markdown",
   "id": "51e342af-6e58-4b13-9ee1-02d412957416",
   "metadata": {},
   "source": [
    "## Demographics of the samples"
   ]
  },
  {
   "cell_type": "markdown",
   "id": "45ad54af-be8e-4e0c-b9fe-a938b5157c38",
   "metadata": {},
   "source": [
    "Age and Income"
   ]
  },
  {
   "cell_type": "code",
   "execution_count": 28,
   "id": "21c0c5ce-4252-4c5b-8bcb-26cf08c22653",
   "metadata": {},
   "outputs": [
    {
     "name": "stdout",
     "output_type": "stream",
     "text": [
      "age\n",
      "exposed_Mean: 51.345382\n",
      "exposed_Median: 52.000000\n",
      "control_Mean: 53.486294\n",
      "control_Median: 54.000000\n",
      "\n",
      "income\n",
      "exposed_Mean: 72504.115226\n",
      "exposed_Median: 62000.000000\n",
      "control_Mean: 75236.536431\n",
      "control_Median: 52000.000000\n",
      "\n"
     ]
    },
    {
     "data": {
      "image/png": "[encoded data removed]",
      "text/plain": [
       "<Figure size 1440x576 with 2 Axes>"
      ]
     },
     "metadata": {
      "needs_background": "light"
     },
     "output_type": "display_data"
    }
   ],
   "source": [
    "num = ['age', 'income']\n",
    "fig, axes = plt.subplots(1, 2, figsize=(20, 8))\n",
    "fig.suptitle('Demographics')\n",
    "\n",
    "# Plot\n",
    "for i in range(len(num)):\n",
    "    axes[i].set_title(num[i])\n",
    "    sns.histplot(exposed[num[i]], ax=axes[i], color=\"blue\", label=\"Exposed\")\n",
    "    sns.histplot(control[num[i]], ax=axes[i], color=\"orange\", label=\"Control\")\n",
    "    fig.legend()\n",
    "    print(num[i])\n",
    "    print(\"exposed_Mean: %f\" % exposed[num[i]].mean())\n",
    "    print(\"exposed_Median: %f\" % exposed[num[i]].median())\n",
    "    print(\"control_Mean: %f\" % control[num[i]].mean())\n",
    "    print(\"control_Median: %f\" % control[num[i]].median())\n",
    "    print()\n"
   ]
  },
  {
   "cell_type": "markdown",
   "id": "6f917b75-0482-4910-ba44-1df2fc11d188",
   "metadata": {},
   "source": [
    "Education"
   ]
  },
  {
   "cell_type": "code",
   "execution_count": 29,
   "id": "77e41a6b-bf16-4206-93c0-543b199f7f5a",
   "metadata": {},
   "outputs": [
    {
     "data": {
      "text/html": [
       "<div>\n",
       "<style scoped>\n",
       "    .dataframe tbody tr th:only-of-type {\n",
       "        vertical-align: middle;\n",
       "    }\n",
       "\n",
       "    .dataframe tbody tr th {\n",
       "        vertical-align: top;\n",
       "    }\n",
       "\n",
       "    .dataframe thead th {\n",
       "        text-align: right;\n",
       "    }\n",
       "</style>\n",
       "<table border=\"1\" class=\"dataframe\">\n",
       "  <thead>\n",
       "    <tr style=\"text-align: right;\">\n",
       "      <th></th>\n",
       "      <th>Education_HighSchool</th>\n",
       "      <th>Education_SomeCollege</th>\n",
       "      <th>Education_CollegeGrad</th>\n",
       "      <th>Education_MastersGrad</th>\n",
       "    </tr>\n",
       "    <tr>\n",
       "      <th>exposed</th>\n",
       "      <th></th>\n",
       "      <th></th>\n",
       "      <th></th>\n",
       "      <th></th>\n",
       "    </tr>\n",
       "  </thead>\n",
       "  <tbody>\n",
       "    <tr>\n",
       "      <th>0</th>\n",
       "      <td>127</td>\n",
       "      <td>119</td>\n",
       "      <td>37</td>\n",
       "      <td>10</td>\n",
       "    </tr>\n",
       "    <tr>\n",
       "      <th>1</th>\n",
       "      <td>210</td>\n",
       "      <td>205</td>\n",
       "      <td>72</td>\n",
       "      <td>9</td>\n",
       "    </tr>\n",
       "  </tbody>\n",
       "</table>\n",
       "</div>"
      ],
      "text/plain": [
       "         Education_HighSchool  Education_SomeCollege  Education_CollegeGrad  \\\n",
       "exposed                                                                       \n",
       "0                         127                    119                     37   \n",
       "1                         210                    205                     72   \n",
       "\n",
       "         Education_MastersGrad  \n",
       "exposed                         \n",
       "0                           10  \n",
       "1                            9  "
      ]
     },
     "execution_count": 29,
     "metadata": {},
     "output_type": "execute_result"
    }
   ],
   "source": [
    "labs = {'edu100': 'Education_HighSchool', \n",
    "        'edu101': 'Education_SomeCollege', \n",
    "        'edu102': 'Education_CollegeGrad',\n",
    "        'edu103': 'Education_MastersGrad'}\n",
    "df = df.rename(columns = labs)\n",
    "edu_list = [i for i in labs.values()]\n",
    "education = df.groupby('exposed')[edu_list].sum()\n",
    "education"
   ]
  },
  {
   "cell_type": "markdown",
   "id": "d4bbf54b-eb42-4442-95a9-f9fbb7a6c002",
   "metadata": {},
   "source": [
    "Gender"
   ]
  },
  {
   "cell_type": "code",
   "execution_count": 34,
   "id": "02e2c203-afa7-42ea-901d-d6d5a63def7a",
   "metadata": {},
   "outputs": [
    {
     "data": {
      "text/html": [
       "<div>\n",
       "<style scoped>\n",
       "    .dataframe tbody tr th:only-of-type {\n",
       "        vertical-align: middle;\n",
       "    }\n",
       "\n",
       "    .dataframe tbody tr th {\n",
       "        vertical-align: top;\n",
       "    }\n",
       "\n",
       "    .dataframe thead th {\n",
       "        text-align: right;\n",
       "    }\n",
       "</style>\n",
       "<table border=\"1\" class=\"dataframe\">\n",
       "  <thead>\n",
       "    <tr style=\"text-align: right;\">\n",
       "      <th></th>\n",
       "      <th>gender_M</th>\n",
       "      <th>gender_F</th>\n",
       "      <th>gender_I</th>\n",
       "    </tr>\n",
       "    <tr>\n",
       "      <th>exposed</th>\n",
       "      <th></th>\n",
       "      <th></th>\n",
       "      <th></th>\n",
       "    </tr>\n",
       "  </thead>\n",
       "  <tbody>\n",
       "    <tr>\n",
       "      <th>0</th>\n",
       "      <td>463</td>\n",
       "      <td>474</td>\n",
       "      <td>40</td>\n",
       "    </tr>\n",
       "    <tr>\n",
       "      <th>1</th>\n",
       "      <td>294</td>\n",
       "      <td>655</td>\n",
       "      <td>37</td>\n",
       "    </tr>\n",
       "  </tbody>\n",
       "</table>\n",
       "</div>"
      ],
      "text/plain": [
       "         gender_M  gender_F  gender_I\n",
       "exposed                              \n",
       "0             463       474        40\n",
       "1             294       655        37"
      ]
     },
     "execution_count": 34,
     "metadata": {},
     "output_type": "execute_result"
    }
   ],
   "source": [
    "gender_list = ['gender_M', 'gender_F', 'gender_I']\n",
    "gender = df.groupby('exposed')[gender_list].sum()\n",
    "gender"
   ]
  },
  {
   "cell_type": "markdown",
   "id": "0a305ee3-ede8-4c15-9187-87df993eafeb",
   "metadata": {},
   "source": [
    "### Comparing means to find largest differences between the exposed and control group"
   ]
  },
  {
   "cell_type": "code",
   "execution_count": 44,
   "id": "e530c879-3088-4245-8120-bd844b9d4053",
   "metadata": {},
   "outputs": [],
   "source": [
    "def find_variables_with_largest_differences(dataset1, dataset2, num_top_variables=10):\n",
    "    # Step 2: Calculate Differences\n",
    "    differences = {}\n",
    "    for column in dataset1.columns:\n",
    "        if dataset1[column].nunique() == 2 and dataset2[column].nunique() == 2:\n",
    "            proportion_dataset1 = dataset1[column].mean()\n",
    "            proportion_dataset2 = dataset2[column].mean()\n",
    "            absolute_difference = abs(proportion_dataset1 - proportion_dataset2)\n",
    "            differences[column] = {\n",
    "                'dataset1_mean': proportion_dataset1,\n",
    "                'dataset2_mean': proportion_dataset2,\n",
    "                'absolute_difference': absolute_difference\n",
    "            }\n",
    "\n",
    "    # Step 3: Sort and Select Top Variables\n",
    "    sorted_differences = sorted(differences.items(), key=lambda x: x[1]['absolute_difference'], reverse=True)\n",
    "    top_variables = [item[0] for item in sorted_differences[:num_top_variables]]\n",
    "    top_variables_info = {item[0]: item[1] for item in sorted_differences[:num_top_variables]}\n",
    "\n",
    "    return top_variables, top_variables_info"
   ]
  },
  {
   "cell_type": "markdown",
   "id": "f303390d-592d-4b01-9eca-99239f612e21",
   "metadata": {},
   "source": [
    "What are the top attributes that make the Treatment Group different from the Control group?"
   ]
  },
  {
   "cell_type": "code",
   "execution_count": 45,
   "id": "681ddba4-95b1-47b5-923e-12f9b9293c70",
   "metadata": {},
   "outputs": [
    {
     "ename": "SyntaxError",
     "evalue": "invalid syntax (3195899524.py, line 7)",
     "output_type": "error",
     "traceback": [
      "\u001b[0;36m  Input \u001b[0;32mIn [45]\u001b[0;36m\u001b[0m\n\u001b[0;31m    print(f\"Attribute Name:\" {data_dictionary[variable]['attribute_name']}\")\u001b[0m\n\u001b[0m                             ^\u001b[0m\n\u001b[0;31mSyntaxError\u001b[0m\u001b[0;31m:\u001b[0m invalid syntax\n"
     ]
    }
   ],
   "source": [
    "num_top_variables = 10\n",
    "top_variables, top_variables_info = find_variables_with_largest_differences(df_control, df_exposed, num_top_variables)\n",
    "# attributes = list(dictionary['attribute_name'].str.lower())\n",
    "# Print the comparison for the top variables\n",
    "\n",
    "for variable in top_variables:\n",
    "    print(f\"Attribute Name:\" {data_dictionary[variable]['attribute_name']}\")\n",
    "    print(f\"Control Mean: {top_variables_info[variable]['dataset1_mean']:.3f}\")\n",
    "    print(f\"Exposed Mean: {top_variables_info[variable]['dataset2_mean']:.3f}\")\n",
    "    print(f\"Absolute Difference: {top_variables_info[variable]['absolute_difference']:.3f}\")\n",
    "    print()"
   ]
  },
  {
   "cell_type": "markdown",
   "id": "a731ae51-e2ac-419e-aeae-a2ea9ca21e82",
   "metadata": {},
   "source": [
    "### Conducting factor analysis to reduce dimensions before clustering."
   ]
  },
  {
   "cell_type": "code",
   "execution_count": 43,
   "id": "d8c4ad76-82e5-4a9f-9cd5-79062fb2a7d4",
   "metadata": {},
   "outputs": [
    {
     "ename": "KeyError",
     "evalue": "\"['gender', 'family_position', 'investment_type', 'marital_status', 'net_worth', 'political_affiliation', 'cbsa_code', 'census_tract', 'census_block_group', 'congress_dist', 'county_name', 'msa', 'state', 'urbanicity', 'census_block_id', 'county_code', 'zip11'] not in index\"",
     "output_type": "error",
     "traceback": [
      "\u001b[0;31m---------------------------------------------------------------------------\u001b[0m",
      "\u001b[0;31mKeyError\u001b[0m                                  Traceback (most recent call last)",
      "Input \u001b[0;32mIn [43]\u001b[0m, in \u001b[0;36m<module>\u001b[0;34m\u001b[0m\n\u001b[1;32m      1\u001b[0m \u001b[38;5;66;03m# Standardize all variables except dummy variables.\u001b[39;00m\n\u001b[1;32m      2\u001b[0m scaler \u001b[38;5;241m=\u001b[39m MinMaxScaler() \n\u001b[0;32m----> 3\u001b[0m data_scaled \u001b[38;5;241m=\u001b[39m scaler\u001b[38;5;241m.\u001b[39mfit_transform(\u001b[43mdf\u001b[49m\u001b[43m[\u001b[49m\u001b[43mnon_dummy_columns\u001b[49m\u001b[43m]\u001b[49m)\n\u001b[1;32m      4\u001b[0m \u001b[38;5;66;03m## Set the data to a matrix\u001b[39;00m\n\u001b[1;32m      5\u001b[0m TD \u001b[38;5;241m=\u001b[39m np\u001b[38;5;241m.\u001b[39marray(data_scaled)\n",
      "File \u001b[0;32m/opt/conda/lib/python3.9/site-packages/pandas/core/frame.py:3813\u001b[0m, in \u001b[0;36mDataFrame.__getitem__\u001b[0;34m(self, key)\u001b[0m\n\u001b[1;32m   3811\u001b[0m     \u001b[38;5;28;01mif\u001b[39;00m is_iterator(key):\n\u001b[1;32m   3812\u001b[0m         key \u001b[38;5;241m=\u001b[39m \u001b[38;5;28mlist\u001b[39m(key)\n\u001b[0;32m-> 3813\u001b[0m     indexer \u001b[38;5;241m=\u001b[39m \u001b[38;5;28;43mself\u001b[39;49m\u001b[38;5;241;43m.\u001b[39;49m\u001b[43mcolumns\u001b[49m\u001b[38;5;241;43m.\u001b[39;49m\u001b[43m_get_indexer_strict\u001b[49m\u001b[43m(\u001b[49m\u001b[43mkey\u001b[49m\u001b[43m,\u001b[49m\u001b[43m \u001b[49m\u001b[38;5;124;43m\"\u001b[39;49m\u001b[38;5;124;43mcolumns\u001b[39;49m\u001b[38;5;124;43m\"\u001b[39;49m\u001b[43m)\u001b[49m[\u001b[38;5;241m1\u001b[39m]\n\u001b[1;32m   3815\u001b[0m \u001b[38;5;66;03m# take() does not accept boolean indexers\u001b[39;00m\n\u001b[1;32m   3816\u001b[0m \u001b[38;5;28;01mif\u001b[39;00m \u001b[38;5;28mgetattr\u001b[39m(indexer, \u001b[38;5;124m\"\u001b[39m\u001b[38;5;124mdtype\u001b[39m\u001b[38;5;124m\"\u001b[39m, \u001b[38;5;28;01mNone\u001b[39;00m) \u001b[38;5;241m==\u001b[39m \u001b[38;5;28mbool\u001b[39m:\n",
      "File \u001b[0;32m/opt/conda/lib/python3.9/site-packages/pandas/core/indexes/base.py:6070\u001b[0m, in \u001b[0;36mIndex._get_indexer_strict\u001b[0;34m(self, key, axis_name)\u001b[0m\n\u001b[1;32m   6067\u001b[0m \u001b[38;5;28;01melse\u001b[39;00m:\n\u001b[1;32m   6068\u001b[0m     keyarr, indexer, new_indexer \u001b[38;5;241m=\u001b[39m \u001b[38;5;28mself\u001b[39m\u001b[38;5;241m.\u001b[39m_reindex_non_unique(keyarr)\n\u001b[0;32m-> 6070\u001b[0m \u001b[38;5;28;43mself\u001b[39;49m\u001b[38;5;241;43m.\u001b[39;49m\u001b[43m_raise_if_missing\u001b[49m\u001b[43m(\u001b[49m\u001b[43mkeyarr\u001b[49m\u001b[43m,\u001b[49m\u001b[43m \u001b[49m\u001b[43mindexer\u001b[49m\u001b[43m,\u001b[49m\u001b[43m \u001b[49m\u001b[43maxis_name\u001b[49m\u001b[43m)\u001b[49m\n\u001b[1;32m   6072\u001b[0m keyarr \u001b[38;5;241m=\u001b[39m \u001b[38;5;28mself\u001b[39m\u001b[38;5;241m.\u001b[39mtake(indexer)\n\u001b[1;32m   6073\u001b[0m \u001b[38;5;28;01mif\u001b[39;00m \u001b[38;5;28misinstance\u001b[39m(key, Index):\n\u001b[1;32m   6074\u001b[0m     \u001b[38;5;66;03m# GH 42790 - Preserve name from an Index\u001b[39;00m\n",
      "File \u001b[0;32m/opt/conda/lib/python3.9/site-packages/pandas/core/indexes/base.py:6133\u001b[0m, in \u001b[0;36mIndex._raise_if_missing\u001b[0;34m(self, key, indexer, axis_name)\u001b[0m\n\u001b[1;32m   6130\u001b[0m     \u001b[38;5;28;01mraise\u001b[39;00m \u001b[38;5;167;01mKeyError\u001b[39;00m(\u001b[38;5;124mf\u001b[39m\u001b[38;5;124m\"\u001b[39m\u001b[38;5;124mNone of [\u001b[39m\u001b[38;5;132;01m{\u001b[39;00mkey\u001b[38;5;132;01m}\u001b[39;00m\u001b[38;5;124m] are in the [\u001b[39m\u001b[38;5;132;01m{\u001b[39;00maxis_name\u001b[38;5;132;01m}\u001b[39;00m\u001b[38;5;124m]\u001b[39m\u001b[38;5;124m\"\u001b[39m)\n\u001b[1;32m   6132\u001b[0m not_found \u001b[38;5;241m=\u001b[39m \u001b[38;5;28mlist\u001b[39m(ensure_index(key)[missing_mask\u001b[38;5;241m.\u001b[39mnonzero()[\u001b[38;5;241m0\u001b[39m]]\u001b[38;5;241m.\u001b[39munique())\n\u001b[0;32m-> 6133\u001b[0m \u001b[38;5;28;01mraise\u001b[39;00m \u001b[38;5;167;01mKeyError\u001b[39;00m(\u001b[38;5;124mf\u001b[39m\u001b[38;5;124m\"\u001b[39m\u001b[38;5;132;01m{\u001b[39;00mnot_found\u001b[38;5;132;01m}\u001b[39;00m\u001b[38;5;124m not in index\u001b[39m\u001b[38;5;124m\"\u001b[39m)\n",
      "\u001b[0;31mKeyError\u001b[0m: \"['gender', 'family_position', 'investment_type', 'marital_status', 'net_worth', 'political_affiliation', 'cbsa_code', 'census_tract', 'census_block_group', 'congress_dist', 'county_name', 'msa', 'state', 'urbanicity', 'census_block_id', 'county_code', 'zip11'] not in index\""
     ]
    }
   ],
   "source": [
    "# Standardize all variables except dummy variables.\n",
    "scaler = MinMaxScaler() \n",
    "data_scaled = scaler.fit_transform(df[non_dummy_columns])\n",
    "## Set the data to a matrix\n",
    "TD = np.array(data_scaled)"
   ]
  },
  {
   "cell_type": "code",
   "execution_count": 42,
   "id": "addf15aa-de01-4d69-9887-d7f4347218fb",
   "metadata": {},
   "outputs": [
    {
     "ename": "NameError",
     "evalue": "name 'data_scaled' is not defined",
     "output_type": "error",
     "traceback": [
      "\u001b[0;31m---------------------------------------------------------------------------\u001b[0m",
      "\u001b[0;31mNameError\u001b[0m                                 Traceback (most recent call last)",
      "Input \u001b[0;32mIn [42]\u001b[0m, in \u001b[0;36m<module>\u001b[0;34m\u001b[0m\n\u001b[1;32m      1\u001b[0m pca \u001b[38;5;241m=\u001b[39m decomposition\u001b[38;5;241m.\u001b[39mPCA() \u001b[38;5;66;03m## create the function\u001b[39;00m\n\u001b[0;32m----> 2\u001b[0m XTrans \u001b[38;5;241m=\u001b[39m pca\u001b[38;5;241m.\u001b[39mfit_transform(\u001b[43mdata_scaled\u001b[49m) \u001b[38;5;66;03m## apply PCA on data set\u001b[39;00m\n\u001b[1;32m      3\u001b[0m \u001b[38;5;28mprint\u001b[39m(pca\u001b[38;5;241m.\u001b[39mexplained_variance_ratio_)\n",
      "\u001b[0;31mNameError\u001b[0m: name 'data_scaled' is not defined"
     ]
    }
   ],
   "source": [
    "pca = decomposition.PCA() ## create the function\n",
    "XTrans = pca.fit_transform(data_scaled) ## apply PCA on data set\n",
    "print(pca.explained_variance_ratio_) ## get the percent explained for each PC"
   ]
  },
  {
   "cell_type": "markdown",
   "id": "e7cb22ba-53cc-46e3-a1bd-78efb87fc3c2",
   "metadata": {},
   "source": [
    "#### Examining the Explained Variance Ratio "
   ]
  },
  {
   "cell_type": "code",
   "execution_count": 46,
   "id": "99ccd1db-5997-414a-a808-d7a9e4a64214",
   "metadata": {},
   "outputs": [
    {
     "ename": "AttributeError",
     "evalue": "'PCA' object has no attribute 'explained_variance_ratio_'",
     "output_type": "error",
     "traceback": [
      "\u001b[0;31m---------------------------------------------------------------------------\u001b[0m",
      "\u001b[0;31mAttributeError\u001b[0m                            Traceback (most recent call last)",
      "Input \u001b[0;32mIn [46]\u001b[0m, in \u001b[0;36m<module>\u001b[0;34m\u001b[0m\n\u001b[1;32m      1\u001b[0m \u001b[38;5;66;03m# Displaying the individual contribution of each component\u001b[39;00m\n\u001b[0;32m----> 2\u001b[0m plt\u001b[38;5;241m.\u001b[39mplot((\u001b[43mpca\u001b[49m\u001b[38;5;241;43m.\u001b[39;49m\u001b[43mexplained_variance_ratio_\u001b[49m[\u001b[38;5;241m0\u001b[39m:\u001b[38;5;241m10\u001b[39m]))\n\u001b[1;32m      3\u001b[0m plt\u001b[38;5;241m.\u001b[39mxlabel(\u001b[38;5;124m'\u001b[39m\u001b[38;5;124mnumber of components\u001b[39m\u001b[38;5;124m'\u001b[39m)\n\u001b[1;32m      4\u001b[0m plt\u001b[38;5;241m.\u001b[39mylabel(\u001b[38;5;124m\"\u001b[39m\u001b[38;5;124mIndividual Components\u001b[39m\u001b[38;5;124m'\u001b[39m\u001b[38;5;124m explained variance\u001b[39m\u001b[38;5;124m\"\u001b[39m)\n",
      "\u001b[0;31mAttributeError\u001b[0m: 'PCA' object has no attribute 'explained_variance_ratio_'"
     ]
    }
   ],
   "source": [
    "# Displaying the individual contribution of each component\n",
    "plt.plot((pca.explained_variance_ratio_[0:10]))\n",
    "plt.xlabel('number of components')\n",
    "plt.ylabel(\"Individual Components' explained variance\")\n",
    "plt.show()"
   ]
  },
  {
   "cell_type": "code",
   "execution_count": 47,
   "id": "33e997a3-c6a3-449e-a7bf-3d1b40ffcc50",
   "metadata": {},
   "outputs": [
    {
     "ename": "AttributeError",
     "evalue": "'PCA' object has no attribute 'explained_variance_ratio_'",
     "output_type": "error",
     "traceback": [
      "\u001b[0;31m---------------------------------------------------------------------------\u001b[0m",
      "\u001b[0;31mAttributeError\u001b[0m                            Traceback (most recent call last)",
      "Input \u001b[0;32mIn [47]\u001b[0m, in \u001b[0;36m<module>\u001b[0;34m\u001b[0m\n\u001b[1;32m      1\u001b[0m \u001b[38;5;66;03m# Displaying the combined contribution of the components\u001b[39;00m\n\u001b[0;32m----> 2\u001b[0m plt\u001b[38;5;241m.\u001b[39mplot(np\u001b[38;5;241m.\u001b[39mcumsum(\u001b[43mpca\u001b[49m\u001b[38;5;241;43m.\u001b[39;49m\u001b[43mexplained_variance_ratio_\u001b[49m))\n\u001b[1;32m      3\u001b[0m plt\u001b[38;5;241m.\u001b[39mxlabel(\u001b[38;5;124m'\u001b[39m\u001b[38;5;124mnumber of components\u001b[39m\u001b[38;5;124m'\u001b[39m)\n\u001b[1;32m      4\u001b[0m plt\u001b[38;5;241m.\u001b[39mylabel(\u001b[38;5;124m'\u001b[39m\u001b[38;5;124mcumulative explained variance\u001b[39m\u001b[38;5;124m'\u001b[39m)\n",
      "\u001b[0;31mAttributeError\u001b[0m: 'PCA' object has no attribute 'explained_variance_ratio_'"
     ]
    }
   ],
   "source": [
    "# Displaying the combined contribution of the components\n",
    "plt.plot(np.cumsum(pca.explained_variance_ratio_))\n",
    "plt.xlabel('number of components')\n",
    "plt.ylabel('cumulative explained variance')\n",
    "plt.show()"
   ]
  },
  {
   "cell_type": "code",
   "execution_count": null,
   "id": "ae0d71b5-003b-439a-a565-4709001cde8c",
   "metadata": {},
   "outputs": [],
   "source": [
    "# choose the number of components you would like to include: \n",
    "numDimensions = 8\n",
    "pct_of_data_explained = round(sum(pca.explained_variance_ratio_[0:numDimensions]),2)*100\n",
    "print(f\"Having {numDimensions} components will explain {pct_of_data_explained}% of the data\") "
   ]
  },
  {
   "cell_type": "code",
   "execution_count": null,
   "id": "8504570a-0f19-422c-b171-56166f1f7898",
   "metadata": {},
   "outputs": [],
   "source": [
    "#Create New Dataframe\n",
    "loadings = XTrans[:,:(7)]\n",
    "loadings = pd.DataFrame(loadings)"
   ]
  },
  {
   "cell_type": "markdown",
   "id": "bc6ae3d2-4cd0-4d71-9944-03159058e646",
   "metadata": {},
   "source": [
    "We are looking to segment the Treatment and Control groups using their attributes. Using Cluster analysis:\n",
    "- Recommend the appropriate number of clusters: 2 (treatment and control group).\n",
    "- Explain the similarity measure you applied: Ward\n",
    "- Interpret, describe, and validate the cluster"
   ]
  },
  {
   "cell_type": "markdown",
   "id": "5a978b2b-9022-4ca5-8be4-329a64a863b4",
   "metadata": {},
   "source": [
    "I'll use the loadings from the factor analysis to do cluster analysis."
   ]
  },
  {
   "cell_type": "code",
   "execution_count": 48,
   "id": "6c18b4f2-91a6-4d02-a491-1ef422daef5e",
   "metadata": {},
   "outputs": [
    {
     "ename": "NameError",
     "evalue": "name 'loadings' is not defined",
     "output_type": "error",
     "traceback": [
      "\u001b[0;31m---------------------------------------------------------------------------\u001b[0m",
      "\u001b[0;31mNameError\u001b[0m                                 Traceback (most recent call last)",
      "Input \u001b[0;32mIn [48]\u001b[0m, in \u001b[0;36m<module>\u001b[0;34m\u001b[0m\n\u001b[1;32m      1\u001b[0m \u001b[38;5;66;03m# this will show you the differences between clusters \u001b[39;00m\n\u001b[1;32m      2\u001b[0m \u001b[38;5;66;03m# and how much of the data is in each cluster\u001b[39;00m\n\u001b[1;32m      3\u001b[0m cgram \u001b[38;5;241m=\u001b[39m Clustergram(\u001b[38;5;28mrange\u001b[39m(\u001b[38;5;241m1\u001b[39m, \u001b[38;5;241m10\u001b[39m))\n\u001b[0;32m----> 4\u001b[0m cgram\u001b[38;5;241m.\u001b[39mfit(\u001b[43mloadings\u001b[49m)\n\u001b[1;32m      5\u001b[0m cgram\u001b[38;5;241m.\u001b[39mplot()\n",
      "\u001b[0;31mNameError\u001b[0m: name 'loadings' is not defined"
     ]
    }
   ],
   "source": [
    "# this will show you the differences between clusters \n",
    "# and how much of the data is in each cluster\n",
    "cgram = Clustergram(range(1, 10))\n",
    "cgram.fit(loadings)\n",
    "cgram.plot()"
   ]
  },
  {
   "cell_type": "code",
   "execution_count": null,
   "id": "7c8dfdd7-5207-4848-91b5-171ac16e5975",
   "metadata": {},
   "outputs": [],
   "source": [
    "Z = linkage(loadings, method='ward')\n",
    "plt.figure(figsize=(12, 6))\n",
    "dendrogram(Z, leaf_rotation=90, leaf_font_size=8)\n",
    "plt.xlabel('Data Points')\n",
    "plt.ylabel('Distance')\n",
    "plt.title('Hierarchical Clustering Dendrogram')\n",
    "plt.show()"
   ]
  },
  {
   "cell_type": "code",
   "execution_count": null,
   "id": "e6c6f9cf-9275-4346-8d41-e441ca15771e",
   "metadata": {},
   "outputs": [],
   "source": [
    "# Choose a threshold (height) for cutting the tree to get the desired number of clusters\n",
    "num_clusters = 2\n",
    "clusters = fcluster(Z, t=num_clusters, criterion='maxclust')\n",
    "loadings['cluster'] = clusters"
   ]
  },
  {
   "cell_type": "markdown",
   "id": "ecc12c77-a632-4428-bfcd-7cdcc7be64c0",
   "metadata": {},
   "source": [
    "Validating Cluster Performance"
   ]
  },
  {
   "cell_type": "code",
   "execution_count": 49,
   "id": "ccb61506-5ad8-4363-89d1-2861e66d4103",
   "metadata": {},
   "outputs": [
    {
     "ename": "NameError",
     "evalue": "name 'homogeneity_completeness_v_measure' is not defined",
     "output_type": "error",
     "traceback": [
      "\u001b[0;31m---------------------------------------------------------------------------\u001b[0m",
      "\u001b[0;31mNameError\u001b[0m                                 Traceback (most recent call last)",
      "Input \u001b[0;32mIn [49]\u001b[0m, in \u001b[0;36m<module>\u001b[0;34m\u001b[0m\n\u001b[0;32m----> 1\u001b[0m homogeneity, completeness, v_measure \u001b[38;5;241m=\u001b[39m \u001b[43mhomogeneity_completeness_v_measure\u001b[49m(exposed, clusters)\n\u001b[1;32m      3\u001b[0m \u001b[38;5;28mprint\u001b[39m(\u001b[38;5;124m\"\u001b[39m\u001b[38;5;124mHomogeneity:\u001b[39m\u001b[38;5;124m\"\u001b[39m, homogeneity)\n\u001b[1;32m      4\u001b[0m \u001b[38;5;28mprint\u001b[39m(\u001b[38;5;124m\"\u001b[39m\u001b[38;5;124mCompleteness:\u001b[39m\u001b[38;5;124m\"\u001b[39m, completeness)\n",
      "\u001b[0;31mNameError\u001b[0m: name 'homogeneity_completeness_v_measure' is not defined"
     ]
    }
   ],
   "source": [
    "homogeneity, completeness, v_measure = homogeneity_completeness_v_measure(exposed, clusters)\n",
    "\n",
    "print(\"Homogeneity:\", homogeneity)\n",
    "print(\"Completeness:\", completeness)\n",
    "print(\"V-measure:\", v_measure)"
   ]
  },
  {
   "cell_type": "markdown",
   "id": "d630abf7-01d7-4c65-801e-150d086cd99f",
   "metadata": {},
   "source": [
    "# Part 2"
   ]
  },
  {
   "cell_type": "markdown",
   "id": "22fe1e58-8833-49cc-868f-0b8bdca9ed1d",
   "metadata": {},
   "source": [
    "In this part of the assignment you are free to use any statistical technique that can help you explain the outcome / response metric from the Treatment group compared to the Control group. You can use logistic regression, propensity score analysis and matching and/or any other technique. The response metric from the Treatment Group is an “Email SignUp”."
   ]
  },
  {
   "cell_type": "code",
   "execution_count": 51,
   "id": "bfa77a62-3665-411b-9b0f-2acb40b5fd04",
   "metadata": {},
   "outputs": [],
   "source": [
    "# Create Train and Test data \n",
    "X_train, X_test, y_train, y_test = train_test_split(df.drop(columns = ['exposed']),df['exposed'],test_size=0.25,random_state=0) \n",
    "X_train.shape, X_test.shape, y_train.shape, y_test.shape,y_train.sum(),y_test.sum()\n",
    "X_train_sample = X_train\n",
    "X_test_sample = X_test\n",
    "\n",
    "y_train_sample = y_train\n",
    "y_test_sample = y_test"
   ]
  },
  {
   "cell_type": "code",
   "execution_count": null,
   "id": "44d2d22a-ab33-4e75-93e2-1cf8234fa336",
   "metadata": {},
   "outputs": [],
   "source": [
    "############# LogReg\n",
    "LRclf = LogisticRegression(solver = 'newton-cg', class_weight = 'auto')\n",
    "LRclf.fit(X_train_sample, y_train_sample)"
   ]
  },
  {
   "cell_type": "code",
   "execution_count": null,
   "id": "90165309-9a36-4bba-b591-59bcf5b3383f",
   "metadata": {},
   "outputs": [],
   "source": [
    "############# Random Forest\n",
    "RFclf = RandomForestClassifier(class_weight='balanced_subsample')\n",
    "RFclf.fit(X_train_sample, y_train_sample)"
   ]
  },
  {
   "cell_type": "code",
   "execution_count": null,
   "id": "53338590-ecd6-4484-a2be-05b916343195",
   "metadata": {},
   "outputs": [],
   "source": [
    "# Feature Importance\n",
    "rf_features = RFclf.feature_importances_\n",
    "cols = X_train_sample.columns.values\n",
    "\n",
    "# Create a dataframe with features\n",
    "rf_features_dataframe = pd.DataFrame( {'features': cols,\n",
    "     'RF feature importances': rf_features})\n",
    "rf_features_dataframe = rf_features_dataframe.sort_values('RF feature importances', ascending=False)\n",
    "rf_features_dataframe = rf_features_dataframe[:30]\n",
    "rf_features_dataframe.plot.bar(x='features', y='RF feature importances', figsize=(10,6))"
   ]
  },
  {
   "cell_type": "code",
   "execution_count": null,
   "id": "773465df-1bde-4384-a815-06b0d216948e",
   "metadata": {},
   "outputs": [],
   "source": [
    "lr_features = [i * -1 if i < 0 else i for i in lr_features]\n",
    "cols = X_train.columns.values\n",
    "# Create a dataframe with features\n",
    "features_dataframe = pd.DataFrame( {'LR feature importances' :lr_features,\n",
    "                                    'RF feature importances': rf_features,\n",
    "                                   })\n",
    "\n",
    "features_dataframe.set_index(cols, drop=True, inplace=True, verify_integrity=True)\n",
    "fet_vars = [var for var in features_dataframe.columns ]\n",
    "\n",
    "# create scaler\n",
    "scaler = MinMaxScaler(feature_range=(1, 100))\n",
    "#  fit  the scaler to the train set\n",
    "scaler.fit(features_dataframe[fet_vars]) \n",
    "# transform the train and test set\n",
    "features_dataframe[fet_vars] = scaler.transform(features_dataframe[fet_vars])"
   ]
  },
  {
   "cell_type": "markdown",
   "id": "6cdba3b6-912c-4ca1-a325-d6dd1a0b7b24",
   "metadata": {},
   "source": [
    "What are the variables explaining the differences between the Treatment and the Control group?"
   ]
  },
  {
   "cell_type": "code",
   "execution_count": null,
   "id": "0733e78a-5585-4c76-9269-13a70848f3bd",
   "metadata": {},
   "outputs": [],
   "source": [
    "features_dataframe.T.mean().sort_values(ascending=False)[:37].to_csv('key_features_email_signup.csv')\n",
    "key_features = features_dataframe.T.mean().sort_values(ascending=False)[:37]\n",
    "key_features=key_features.drop(index=[])\n",
    "features_dataframe = features_dataframe.T[key_features.index]\n",
    "fig, (ax1, ax2) = plt.subplots(1, 2, figsize=(12, 8))\n",
    "ax1.barh(features_dataframe.columns, features_dataframe.mean())"
   ]
  },
  {
   "cell_type": "markdown",
   "id": "0c5ac369-c334-45f5-b5e1-e7e744af39fb",
   "metadata": {},
   "source": [
    "Did you train your model? Explain - Yes, I trained the logistic regression model to improve classification."
   ]
  },
  {
   "cell_type": "code",
   "execution_count": null,
   "id": "ba31c877-d998-479d-bd66-5a15b78c0230",
   "metadata": {},
   "outputs": [],
   "source": [
    "predtrn=LRclf.predict_proba(X_train)[:,1]\n",
    "y_test_predict=LRclf.predict_proba(X_test)[:,1]\n",
    "features_dataframe.T.mean().sort_values(ascending=False)[:25]\n",
    "y_train_pred = np.where(predtrn >= 0.006, 1, 0)\n",
    "y_test_pred = np.where(y_test_predict >= 0.006, 1, 0)\n",
    "cm_train = confusion_matrix(y_train_sample, y_train_pred)\n",
    "cm_test = confusion_matrix(y_test_sample, y_test_pred)"
   ]
  },
  {
   "cell_type": "code",
   "execution_count": null,
   "id": "f95105d8-9cba-4af0-8f0b-a61152eb6681",
   "metadata": {},
   "outputs": [],
   "source": [
    "# AUC Score\n",
    "roc_auc_score(y_test_sample, y_test_predict),roc_auc_score(y_train_sample, predtrn)"
   ]
  },
  {
   "cell_type": "code",
   "execution_count": null,
   "id": "ac3c573e-7586-45a3-ad44-19cda233008f",
   "metadata": {},
   "outputs": [],
   "source": [
    "print(cm_train)\n",
    "print(cm_test)\n",
    "print('Train Accuracy' + str(accuracy_score(y_train, y_train_pred)))\n",
    "print('Test Accuracy' + str(accuracy_score(y_test, y_test_pred)))"
   ]
  },
  {
   "cell_type": "markdown",
   "id": "c6227523-ecc4-4fb5-bcf0-d81156d5cc37",
   "metadata": {},
   "source": [
    "<i> Did you get inconclusive results? Was the quality of the data a factor in the inconclusive results? Explain potential reasons the results of your model are inconclusive and/or statistically significant? </i>\n",
    "\n",
    "I received statistically significant results. However, there were data issues that limited the reliability of the modeling results. For example, I was modeling off of the raw data which had a lot of multicollinearity and a lot of missing values. "
   ]
  }
 ],
 "metadata": {
  "kernelspec": {
   "display_name": "Python 3 (ipykernel)",
   "language": "python",
   "name": "python3"
  },
  "language_info": {
   "codemirror_mode": {
    "name": "ipython",
    "version": 3
   },
   "file_extension": ".py",
   "mimetype": "text/x-python",
   "name": "python",
   "nbconvert_exporter": "python",
   "pygments_lexer": "ipython3",
   "version": "3.9.10"
  }
 },
 "nbformat": 4,
 "nbformat_minor": 5
}
